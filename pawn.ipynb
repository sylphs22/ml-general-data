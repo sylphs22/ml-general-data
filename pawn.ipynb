{
 "cells": [
  {
   "cell_type": "code",
   "execution_count": 1,
   "metadata": {
    "collapsed": true
   },
   "outputs": [],
   "source": [
    "df = sqlContext.read.load(\"pawn.txt\", \n",
    "                      format='com.databricks.spark.csv', \n",
    "                      header='true', delimiter='\\t',mode='PERMISSIVE',\n",
    "                     inferSchema='true')"
   ]
  },
  {
   "cell_type": "code",
   "execution_count": 2,
   "metadata": {
    "collapsed": true
   },
   "outputs": [],
   "source": [
    "import nltk"
   ]
  },
  {
   "cell_type": "code",
   "execution_count": null,
   "metadata": {
    "collapsed": true
   },
   "outputs": [],
   "source": [
    "def get_entities(text):\n",
    "    tokens=nltk.tokenize.word_tokenize (text)\n",
    "    pos=nltk.pos_tag(tokens)\n",
    "    sentt=nltk_ne_chunk(pos,binary=True)\n",
    "    ret=[]\n",
    "    for subtree in sentt.subtree(filter=lambda t:t.lable()=='NE'):\n",
    "        val=' '.join (C[0] for c in subtree.leaves ())\n",
    "        ret.append(val)\n",
    "    return ret\n",
    "entities= rdd.map(x: get_entities(x)).collect()"
   ]
  }
 ],
 "metadata": {
  "anaconda-cloud": {},
  "kernelspec": {
   "display_name": "Python [conda root]",
   "language": "python",
   "name": "conda-root-py"
  },
  "language_info": {
   "codemirror_mode": {
    "name": "ipython",
    "version": 3
   },
   "file_extension": ".py",
   "mimetype": "text/x-python",
   "name": "python",
   "nbconvert_exporter": "python",
   "pygments_lexer": "ipython3",
   "version": "3.5.2"
  }
 },
 "nbformat": 4,
 "nbformat_minor": 1
}
