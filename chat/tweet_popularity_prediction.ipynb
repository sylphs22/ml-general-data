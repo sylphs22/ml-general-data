{
 "cells": [
  {
   "cell_type": "markdown",
   "metadata": {},
   "source": [
    "## problem statement\n",
    "Your task is to write a small Python or PySpark script that **predicts the total number of retweets a tweet**  will get using only the provided dataset. This task is designed to test your Python or PySpark ability, your knowledge of Data Science techniques and your ability to work effectively, efficiently and independently within a commercial setting. This task is not designed to test your hypertuning abilities or lateral thinking. Think of this as iteration one or a proof of concept. Be critical of the data it is raw straight from the Twitter API.\n",
    "\n",
    "Deliverables:\n",
    "\n",
    "One Python or PySpark script – a Jupyter notebook is preferable\n",
    "\n",
    "One virtual environment requirements text file including an exhaustive list of packages and version numbers used in your solution (pip freeze > requirements.txt)\n",
    "\n",
    "Nothing else\n",
    "\n",
    " Your solution should at a minimum do the following:\n",
    "\n",
    "Load the data into memory\n",
    "\n",
    "Prepare the data for modelling\n",
    "\n",
    "Build a model on training data\n",
    "\n",
    "Test the model on testing data\n",
    "\n",
    "Provide some measure of performance\n",
    "\n",
    " Please include a list of references (commented in the Python or PySpark script) if you include code from external sources. We suggest spending no more than four hours on this task."
   ]
  },
  {
   "cell_type": "code",
   "execution_count": 2,
   "metadata": {},
   "outputs": [
    {
     "data": {
      "text/plain": [
       "42368"
      ]
     },
     "execution_count": 2,
     "metadata": {},
     "output_type": "execute_result"
    }
   ],
   "source": [
    "## loading data using pandas\n",
    "import pandas as pd\n",
    "import numpy as np\n",
    "from pandas import ExcelFile\n",
    "xls = ExcelFile('tweets.xlsx')\n",
    "df = xls.parse(xls.sheet_names[0])\n",
    "len(df)\n"
   ]
  },
  {
   "cell_type": "code",
   "execution_count": 3,
   "metadata": {
    "collapsed": true
   },
   "outputs": [],
   "source": [
    "from dateutil import parser\n",
    "def time_format(date_string):\n",
    "    dt = parser.parse(date_string)\n",
    "    return(dt.strftime(\"%Y-%m-%d %H:%M:%S\"))"
   ]
  },
  {
   "cell_type": "code",
   "execution_count": 3,
   "metadata": {},
   "outputs": [
    {
     "data": {
      "text/html": [
       "<div>\n",
       "<style scoped>\n",
       "    .dataframe tbody tr th:only-of-type {\n",
       "        vertical-align: middle;\n",
       "    }\n",
       "\n",
       "    .dataframe tbody tr th {\n",
       "        vertical-align: top;\n",
       "    }\n",
       "\n",
       "    .dataframe thead th {\n",
       "        text-align: right;\n",
       "    }\n",
       "</style>\n",
       "<table border=\"1\" class=\"dataframe\">\n",
       "  <thead>\n",
       "    <tr style=\"text-align: right;\">\n",
       "      <th></th>\n",
       "      <th>TweetPostedTime</th>\n",
       "      <th>TweetID</th>\n",
       "      <th>TweetBody</th>\n",
       "      <th>TweetRetweetFlag</th>\n",
       "      <th>TweetSource</th>\n",
       "      <th>TweetInReplyToStatusID</th>\n",
       "      <th>TweetInReplyToUserID</th>\n",
       "      <th>TweetInReplyToScreenName</th>\n",
       "      <th>TweetRetweetCount</th>\n",
       "      <th>TweetFavoritesCount</th>\n",
       "      <th>...</th>\n",
       "      <th>UserDescription</th>\n",
       "      <th>UserLink</th>\n",
       "      <th>UserExpandedLink</th>\n",
       "      <th>UserFollowersCount</th>\n",
       "      <th>UserFriendsCount</th>\n",
       "      <th>UserListedCount</th>\n",
       "      <th>UserSignupDate</th>\n",
       "      <th>UserTweetCount</th>\n",
       "      <th>MacroIterationNumber</th>\n",
       "      <th>tweet.place</th>\n",
       "    </tr>\n",
       "  </thead>\n",
       "  <tbody>\n",
       "    <tr>\n",
       "      <th>0</th>\n",
       "      <td>Tue Dec 20 10:57:00 +0000 2016</td>\n",
       "      <td>811163485052817408</td>\n",
       "      <td>RT @BeachyMaldives: Local interaction is a gre...</td>\n",
       "      <td>True</td>\n",
       "      <td>&lt;a href=\"http://twitter.com/download/iphone\" r...</td>\n",
       "      <td>NaN</td>\n",
       "      <td>NaN</td>\n",
       "      <td>NaN</td>\n",
       "      <td>1</td>\n",
       "      <td>0</td>\n",
       "      <td>...</td>\n",
       "      <td>Pls donate 2 https://t.co/RvOUK9lAWI #YearEndG...</td>\n",
       "      <td>https://t.co/jghZVBsiQF</td>\n",
       "      <td>http://cjqenterprises.com</td>\n",
       "      <td>6334</td>\n",
       "      <td>6144</td>\n",
       "      <td>1917</td>\n",
       "      <td>Sun Jun 14 22:36:15 +0000 2015</td>\n",
       "      <td>33556</td>\n",
       "      <td>0</td>\n",
       "      <td>NaN</td>\n",
       "    </tr>\n",
       "    <tr>\n",
       "      <th>1</th>\n",
       "      <td>Tue Dec 20 10:56:59 +0000 2016</td>\n",
       "      <td>811163483463122944</td>\n",
       "      <td>RT @TechTerraEd: Need #giftideas for your kid(...</td>\n",
       "      <td>True</td>\n",
       "      <td>&lt;a href=\"http://twitter.com/download/iphone\" r...</td>\n",
       "      <td>NaN</td>\n",
       "      <td>NaN</td>\n",
       "      <td>NaN</td>\n",
       "      <td>1</td>\n",
       "      <td>0</td>\n",
       "      <td>...</td>\n",
       "      <td>Educator of students with special needs, Mothe...</td>\n",
       "      <td>NaN</td>\n",
       "      <td>NaN</td>\n",
       "      <td>154</td>\n",
       "      <td>371</td>\n",
       "      <td>180</td>\n",
       "      <td>Sat Jan 02 13:36:23 +0000 2010</td>\n",
       "      <td>3201</td>\n",
       "      <td>0</td>\n",
       "      <td>NaN</td>\n",
       "    </tr>\n",
       "    <tr>\n",
       "      <th>2</th>\n",
       "      <td>Tue Dec 20 10:56:55 +0000 2016</td>\n",
       "      <td>811163466387988480</td>\n",
       "      <td>Seven Questions Before Choosing a Cruise Line ...</td>\n",
       "      <td>False</td>\n",
       "      <td>&lt;a href=\"http://www.google.com/\" rel=\"nofollow...</td>\n",
       "      <td>NaN</td>\n",
       "      <td>NaN</td>\n",
       "      <td>NaN</td>\n",
       "      <td>0</td>\n",
       "      <td>0</td>\n",
       "      <td>...</td>\n",
       "      <td>Thrifty Mom Media social media consulting and ...</td>\n",
       "      <td>https://t.co/cEhGzaQJp6</td>\n",
       "      <td>http://www.thriftymommastips.com/</td>\n",
       "      <td>23433</td>\n",
       "      <td>24762</td>\n",
       "      <td>961</td>\n",
       "      <td>Tue May 26 21:26:09 +0000 2009</td>\n",
       "      <td>147958</td>\n",
       "      <td>0</td>\n",
       "      <td>NaN</td>\n",
       "    </tr>\n",
       "    <tr>\n",
       "      <th>3</th>\n",
       "      <td>Tue Dec 20 10:56:55 +0000 2016</td>\n",
       "      <td>811163465125679104</td>\n",
       "      <td>RT @CMGsportsclub: Yoga do Brasil, un havre de...</td>\n",
       "      <td>True</td>\n",
       "      <td>&lt;a href=\"https://roundteam.co\" rel=\"nofollow\"&gt;...</td>\n",
       "      <td>NaN</td>\n",
       "      <td>NaN</td>\n",
       "      <td>NaN</td>\n",
       "      <td>1</td>\n",
       "      <td>0</td>\n",
       "      <td>...</td>\n",
       "      <td>Adventure travel, yoga, paleo, Crossfit, runni...</td>\n",
       "      <td>https://t.co/3IHwXkgAkA</td>\n",
       "      <td>https://primalsanctuary.com</td>\n",
       "      <td>11136</td>\n",
       "      <td>10081</td>\n",
       "      <td>978</td>\n",
       "      <td>Sat Sep 12 20:29:18 +0000 2015</td>\n",
       "      <td>28988</td>\n",
       "      <td>0</td>\n",
       "      <td>NaN</td>\n",
       "    </tr>\n",
       "    <tr>\n",
       "      <th>4</th>\n",
       "      <td>Tue Dec 20 10:56:53 +0000 2016</td>\n",
       "      <td>811163457508642817</td>\n",
       "      <td>RT @StylishRentals: Love this! \"Palm Springs M...</td>\n",
       "      <td>True</td>\n",
       "      <td>&lt;a href=\"http://twitter.com\" rel=\"nofollow\"&gt;Tw...</td>\n",
       "      <td>NaN</td>\n",
       "      <td>NaN</td>\n",
       "      <td>NaN</td>\n",
       "      <td>3065</td>\n",
       "      <td>0</td>\n",
       "      <td>...</td>\n",
       "      <td>I really have got giant ambitions. I start com...</td>\n",
       "      <td>NaN</td>\n",
       "      <td>NaN</td>\n",
       "      <td>55</td>\n",
       "      <td>21</td>\n",
       "      <td>31</td>\n",
       "      <td>Wed Sep 07 16:22:15 +0000 2016</td>\n",
       "      <td>19581</td>\n",
       "      <td>0</td>\n",
       "      <td>NaN</td>\n",
       "    </tr>\n",
       "  </tbody>\n",
       "</table>\n",
       "<p>5 rows × 32 columns</p>\n",
       "</div>"
      ],
      "text/plain": [
       "                  TweetPostedTime             TweetID  \\\n",
       "0  Tue Dec 20 10:57:00 +0000 2016  811163485052817408   \n",
       "1  Tue Dec 20 10:56:59 +0000 2016  811163483463122944   \n",
       "2  Tue Dec 20 10:56:55 +0000 2016  811163466387988480   \n",
       "3  Tue Dec 20 10:56:55 +0000 2016  811163465125679104   \n",
       "4  Tue Dec 20 10:56:53 +0000 2016  811163457508642817   \n",
       "\n",
       "                                           TweetBody  TweetRetweetFlag  \\\n",
       "0  RT @BeachyMaldives: Local interaction is a gre...              True   \n",
       "1  RT @TechTerraEd: Need #giftideas for your kid(...              True   \n",
       "2  Seven Questions Before Choosing a Cruise Line ...             False   \n",
       "3  RT @CMGsportsclub: Yoga do Brasil, un havre de...              True   \n",
       "4  RT @StylishRentals: Love this! \"Palm Springs M...              True   \n",
       "\n",
       "                                         TweetSource  TweetInReplyToStatusID  \\\n",
       "0  <a href=\"http://twitter.com/download/iphone\" r...                     NaN   \n",
       "1  <a href=\"http://twitter.com/download/iphone\" r...                     NaN   \n",
       "2  <a href=\"http://www.google.com/\" rel=\"nofollow...                     NaN   \n",
       "3  <a href=\"https://roundteam.co\" rel=\"nofollow\">...                     NaN   \n",
       "4  <a href=\"http://twitter.com\" rel=\"nofollow\">Tw...                     NaN   \n",
       "\n",
       "   TweetInReplyToUserID TweetInReplyToScreenName  TweetRetweetCount  \\\n",
       "0                   NaN                      NaN                  1   \n",
       "1                   NaN                      NaN                  1   \n",
       "2                   NaN                      NaN                  0   \n",
       "3                   NaN                      NaN                  1   \n",
       "4                   NaN                      NaN               3065   \n",
       "\n",
       "   TweetFavoritesCount     ...      \\\n",
       "0                    0     ...       \n",
       "1                    0     ...       \n",
       "2                    0     ...       \n",
       "3                    0     ...       \n",
       "4                    0     ...       \n",
       "\n",
       "                                     UserDescription                 UserLink  \\\n",
       "0  Pls donate 2 https://t.co/RvOUK9lAWI #YearEndG...  https://t.co/jghZVBsiQF   \n",
       "1  Educator of students with special needs, Mothe...                      NaN   \n",
       "2  Thrifty Mom Media social media consulting and ...  https://t.co/cEhGzaQJp6   \n",
       "3  Adventure travel, yoga, paleo, Crossfit, runni...  https://t.co/3IHwXkgAkA   \n",
       "4  I really have got giant ambitions. I start com...                      NaN   \n",
       "\n",
       "                    UserExpandedLink UserFollowersCount UserFriendsCount  \\\n",
       "0          http://cjqenterprises.com               6334             6144   \n",
       "1                                NaN                154              371   \n",
       "2  http://www.thriftymommastips.com/              23433            24762   \n",
       "3        https://primalsanctuary.com              11136            10081   \n",
       "4                                NaN                 55               21   \n",
       "\n",
       "  UserListedCount                  UserSignupDate  UserTweetCount  \\\n",
       "0            1917  Sun Jun 14 22:36:15 +0000 2015           33556   \n",
       "1             180  Sat Jan 02 13:36:23 +0000 2010            3201   \n",
       "2             961  Tue May 26 21:26:09 +0000 2009          147958   \n",
       "3             978  Sat Sep 12 20:29:18 +0000 2015           28988   \n",
       "4              31  Wed Sep 07 16:22:15 +0000 2016           19581   \n",
       "\n",
       "   MacroIterationNumber tweet.place  \n",
       "0                     0         NaN  \n",
       "1                     0         NaN  \n",
       "2                     0         NaN  \n",
       "3                     0         NaN  \n",
       "4                     0         NaN  \n",
       "\n",
       "[5 rows x 32 columns]"
      ]
     },
     "execution_count": 3,
     "metadata": {},
     "output_type": "execute_result"
    }
   ],
   "source": [
    "df.head()"
   ]
  },
  {
   "cell_type": "code",
   "execution_count": null,
   "metadata": {
    "collapsed": true
   },
   "outputs": [],
   "source": [
    "df.tail()"
   ]
  },
  {
   "cell_type": "code",
   "execution_count": null,
   "metadata": {
    "collapsed": true
   },
   "outputs": [],
   "source": [
    "df.info()"
   ]
  },
  {
   "cell_type": "code",
   "execution_count": 4,
   "metadata": {
    "collapsed": true
   },
   "outputs": [],
   "source": [
    "df['TweetPostedTime'] = df['TweetPostedTime'].apply(lambda x:time_format(x))\n",
    "df['TweetPostedTime'] = pd.to_datetime(df['TweetPostedTime'],format = \"%Y-%m-%d %H:%M:%S\")"
   ]
  },
  {
   "cell_type": "code",
   "execution_count": null,
   "metadata": {
    "collapsed": true
   },
   "outputs": [],
   "source": [
    "print (min(df['TweetPostedTime']))\n",
    "print(max(df['TweetPostedTime']))"
   ]
  },
  {
   "cell_type": "markdown",
   "metadata": {},
   "source": [
    "The data is of one day, I am not sure how to capture temporal variation of the tweets. Data exploration will suggest the temporal variation in 'tweet retweet count'. We should generally ignore retweets which are not retweets of the tweets available in dataset as we donot know the features of the the original tweet that are only retweets in the data."
   ]
  },
  {
   "cell_type": "code",
   "execution_count": 5,
   "metadata": {
    "collapsed": true
   },
   "outputs": [],
   "source": [
    "import re\n",
    "def rem_RT(text):\n",
    "    \"\"\"removing RT@*: from tweet body to check the temporal \n",
    "    variation of retweet counts \"\"\"\n",
    "    text = str(text)\n",
    "    rem_rt_text = re.sub('RT.*?:','',text, flags=re.DOTALL)\n",
    "    return rem_rt_text\n",
    "    "
   ]
  },
  {
   "cell_type": "code",
   "execution_count": 6,
   "metadata": {
    "collapsed": true
   },
   "outputs": [],
   "source": [
    "## using retweets to figure out if there are temporal variation overtime \n",
    "## will compare tweets and its retweets\n",
    "## since other retweets which are not the tweets available in dataset will not make sense in creating model\n",
    "## as we are not aware of the source tweet followers, friends counts etc\n",
    "df_rt = df[df['TweetRetweetFlag']==True]\n",
    "df_no_rt = df[df['TweetRetweetFlag']==False]"
   ]
  },
  {
   "cell_type": "code",
   "execution_count": 7,
   "metadata": {
    "collapsed": true
   },
   "outputs": [],
   "source": [
    "df_t = df.copy()\n",
    "df_t['TweetBody'] = df_t['TweetBody'].apply(lambda x :rem_RT(x) )"
   ]
  },
  {
   "cell_type": "code",
   "execution_count": 8,
   "metadata": {},
   "outputs": [
    {
     "name": "stderr",
     "output_type": "stream",
     "text": [
      "/home/paperspace/anaconda3/lib/python3.6/site-packages/ipykernel_launcher.py:2: SettingWithCopyWarning: \n",
      "A value is trying to be set on a copy of a slice from a DataFrame.\n",
      "Try using .loc[row_indexer,col_indexer] = value instead\n",
      "\n",
      "See the caveats in the documentation: http://pandas.pydata.org/pandas-docs/stable/indexing.html#indexing-view-versus-copy\n",
      "  \n"
     ]
    }
   ],
   "source": [
    "#test_rem_RT = df_rt.copy()\n",
    "df_rt['TweetBody'] = df_rt['TweetBody'].apply(lambda x :rem_RT(x) )"
   ]
  },
  {
   "cell_type": "code",
   "execution_count": 9,
   "metadata": {},
   "outputs": [
    {
     "data": {
      "text/plain": [
       "26862"
      ]
     },
     "execution_count": 9,
     "metadata": {},
     "output_type": "execute_result"
    }
   ],
   "source": [
    "df_rt_tweet = df_rt[['TweetPostedTime', 'TweetID', 'TweetBody','TweetRetweetCount']]\n",
    "rem_dup_df=df_rt_tweet.drop_duplicates(df_rt_tweet.columns)\n",
    "len(rem_dup_df)"
   ]
  },
  {
   "cell_type": "code",
   "execution_count": 10,
   "metadata": {
    "collapsed": true
   },
   "outputs": [],
   "source": [
    "df_no_rt_tweet = df_no_rt[['TweetPostedTime', 'TweetID', 'TweetBody','TweetRetweetCount']]"
   ]
  },
  {
   "cell_type": "code",
   "execution_count": 11,
   "metadata": {
    "collapsed": true
   },
   "outputs": [],
   "source": [
    "merged_df = pd.merge(df_no_rt_tweet, rem_dup_df, how='inner', on=['TweetBody'])"
   ]
  },
  {
   "cell_type": "code",
   "execution_count": 12,
   "metadata": {
    "collapsed": true,
    "scrolled": true
   },
   "outputs": [],
   "source": [
    "merged_df['flag'] = np.sign(merged_df.TweetRetweetCount_y - merged_df.TweetRetweetCount_x)"
   ]
  },
  {
   "cell_type": "code",
   "execution_count": 13,
   "metadata": {},
   "outputs": [
    {
     "data": {
      "text/plain": [
       "0"
      ]
     },
     "execution_count": 13,
     "metadata": {},
     "output_type": "execute_result"
    }
   ],
   "source": [
    "sum(merged_df['flag'])"
   ]
  },
  {
   "cell_type": "code",
   "execution_count": 14,
   "metadata": {},
   "outputs": [
    {
     "data": {
      "text/plain": [
       "15506"
      ]
     },
     "execution_count": 14,
     "metadata": {},
     "output_type": "execute_result"
    }
   ],
   "source": [
    "#it is clear that there are no change in the tweets even if there are retweets of the same tweet so \n",
    "#We are interested in only tweets and not retweets\n",
    "# so removing all retweets\n",
    "df_rem_rt = df[df['TweetRetweetFlag']==False]\n",
    "len(df_rem_rt)"
   ]
  },
  {
   "cell_type": "code",
   "execution_count": 15,
   "metadata": {},
   "outputs": [
    {
     "data": {
      "text/plain": [
       "15506"
      ]
     },
     "execution_count": 15,
     "metadata": {},
     "output_type": "execute_result"
    }
   ],
   "source": [
    "## Checking duplicates if any\n",
    "rem_dup_df=df_rem_rt.drop_duplicates(df_rem_rt.columns)\n",
    "len(rem_dup_df)"
   ]
  },
  {
   "cell_type": "code",
   "execution_count": null,
   "metadata": {
    "collapsed": true
   },
   "outputs": [],
   "source": [
    "rem_dup_df.head()\n"
   ]
  },
  {
   "cell_type": "markdown",
   "metadata": {
    "collapsed": true
   },
   "source": [
    "# Steps \n",
    "\n",
    "## Data preprocessing\n",
    "\n",
    "## Data cleaning\n",
    "- text cleaning and retain features to train the model\n",
    "- Look for any anomalies and address them if required\n",
    "\n",
    "## Model training\n",
    "\n",
    "## Model testing\n",
    "- test the best performing model on test set\n",
    "- Look for bias or overfitting \n",
    "\n",
    "## Feature expansion and engineering\n",
    "-\n",
    "\n"
   ]
  },
  {
   "cell_type": "code",
   "execution_count": 16,
   "metadata": {
    "collapsed": true
   },
   "outputs": [
    {
     "name": "stdout",
     "output_type": "stream",
     "text": [
      "<class 'pandas.core.frame.DataFrame'>\n",
      "Int64Index: 15506 entries, 2 to 42364\n",
      "Data columns (total 32 columns):\n",
      "TweetPostedTime              15506 non-null datetime64[ns]\n",
      "TweetID                      15506 non-null int64\n",
      "TweetBody                    15506 non-null object\n",
      "TweetRetweetFlag             15506 non-null bool\n",
      "TweetSource                  15506 non-null object\n",
      "TweetInReplyToStatusID       101 non-null float64\n",
      "TweetInReplyToUserID         189 non-null float64\n",
      "TweetInReplyToScreenName     189 non-null object\n",
      "TweetRetweetCount            15506 non-null int64\n",
      "TweetFavoritesCount          15506 non-null int64\n",
      "TweetHashtags                15406 non-null object\n",
      "TweetPlaceID                 997 non-null object\n",
      "TweetPlaceName               997 non-null object\n",
      "TweetPlaceFullName           997 non-null object\n",
      "TweetCountry                 996 non-null object\n",
      "TweetPlaceBoundingBox        997 non-null object\n",
      "TweetPlaceAttributes         0 non-null float64\n",
      "TweetPlaceContainedWithin    0 non-null float64\n",
      "UserID                       15506 non-null int64\n",
      "UserName                     15506 non-null object\n",
      "UserScreenName               15506 non-null object\n",
      "UserLocation                 10959 non-null object\n",
      "UserDescription              13153 non-null object\n",
      "UserLink                     11006 non-null object\n",
      "UserExpandedLink             10986 non-null object\n",
      "UserFollowersCount           15506 non-null int64\n",
      "UserFriendsCount             15506 non-null int64\n",
      "UserListedCount              15506 non-null int64\n",
      "UserSignupDate               15506 non-null object\n",
      "UserTweetCount               15506 non-null int64\n",
      "MacroIterationNumber         15506 non-null int64\n",
      "tweet.place                  997 non-null object\n",
      "dtypes: bool(1), datetime64[ns](1), float64(4), int64(9), object(17)\n",
      "memory usage: 3.8+ MB\n"
     ]
    }
   ],
   "source": [
    "rem_dup_df.info()\n"
   ]
  },
  {
   "cell_type": "code",
   "execution_count": 17,
   "metadata": {
    "collapsed": true
   },
   "outputs": [],
   "source": [
    "## choosing the columns which can be features\n",
    "## based on reasearch work published making taking features which can be important\n",
    "## parsimonious model is subject to less overfitting\n",
    "model_df = rem_dup_df[['TweetID','TweetPostedTime','TweetRetweetCount','UserTweetCount','UserListedCount',\n",
    "                       'UserFriendsCount','UserFollowersCount','TweetBody']].reset_index(drop=True)"
   ]
  },
  {
   "cell_type": "code",
   "execution_count": 16,
   "metadata": {
    "collapsed": true
   },
   "outputs": [],
   "source": [
    "model_df = rem_dup_df[['TweetRetweetCount','UserTweetCount','UserListedCount',\n",
    "                       'UserFriendsCount','UserFollowersCount','TweetBody']].reset_index(drop=True)"
   ]
  },
  {
   "cell_type": "code",
   "execution_count": 17,
   "metadata": {},
   "outputs": [
    {
     "data": {
      "text/plain": [
       "count    15506.000000\n",
       "mean         2.116084\n",
       "std         71.928530\n",
       "min          0.000000\n",
       "25%          0.000000\n",
       "50%          0.000000\n",
       "75%          0.000000\n",
       "max       3309.000000\n",
       "Name: TweetRetweetCount, dtype: float64"
      ]
     },
     "execution_count": 17,
     "metadata": {},
     "output_type": "execute_result"
    }
   ],
   "source": [
    "model_df['TweetRetweetCount'].describe()"
   ]
  },
  {
   "cell_type": "code",
   "execution_count": null,
   "metadata": {
    "collapsed": true
   },
   "outputs": [],
   "source": [
    "import matplotlib\n",
    "matplotlib.use('Agg')"
   ]
  },
  {
   "cell_type": "code",
   "execution_count": 1,
   "metadata": {},
   "outputs": [],
   "source": [
    "#%matplotlib\n",
    "import matplotlib.pyplot as plt\n",
    "#plt.use('Agg')"
   ]
  },
  {
   "cell_type": "code",
   "execution_count": null,
   "metadata": {
    "collapsed": true
   },
   "outputs": [],
   "source": [
    "plt.hist(tweets.groupby(\"UserID\")[\"TweetID\"].nunique(), bins=100)\n",
    "plt.title(\"Number of tweets per user in the 10 hour window of tweets recorded\")\n",
    "plt.show()"
   ]
  },
  {
   "cell_type": "code",
   "execution_count": 24,
   "metadata": {
    "collapsed": true
   },
   "outputs": [
    {
     "ename": "TclError",
     "evalue": "no display name and no $DISPLAY environment variable",
     "output_type": "error",
     "traceback": [
      "\u001b[0;31m---------------------------------------------------------------------------\u001b[0m",
      "\u001b[0;31mTclError\u001b[0m                                  Traceback (most recent call last)",
      "\u001b[0;32m<ipython-input-24-bdff16e828b9>\u001b[0m in \u001b[0;36m<module>\u001b[0;34m()\u001b[0m\n\u001b[1;32m      1\u001b[0m \u001b[0mTweetRetweetCount\u001b[0m \u001b[0;34m=\u001b[0m \u001b[0mmodel_df\u001b[0m\u001b[0;34m[\u001b[0m\u001b[0;34m'TweetRetweetCount'\u001b[0m\u001b[0;34m]\u001b[0m\u001b[0;34m\u001b[0m\u001b[0m\n\u001b[0;32m----> 2\u001b[0;31m \u001b[0mplt\u001b[0m\u001b[0;34m.\u001b[0m\u001b[0mhist\u001b[0m\u001b[0;34m(\u001b[0m\u001b[0mTweetRetweetCount\u001b[0m\u001b[0;34m,\u001b[0m \u001b[0mbins\u001b[0m\u001b[0;34m=\u001b[0m\u001b[0;36m2\u001b[0m\u001b[0;34m)\u001b[0m\u001b[0;34m\u001b[0m\u001b[0m\n\u001b[0m\u001b[1;32m      3\u001b[0m \u001b[0mplt\u001b[0m\u001b[0;34m.\u001b[0m\u001b[0mtitle\u001b[0m\u001b[0;34m(\u001b[0m\u001b[0;34m\"Number of TweetRetweetCount of a tweet\"\u001b[0m\u001b[0;34m)\u001b[0m\u001b[0;34m\u001b[0m\u001b[0m\n\u001b[1;32m      4\u001b[0m \u001b[0mplt\u001b[0m\u001b[0;34m.\u001b[0m\u001b[0mshow\u001b[0m\u001b[0;34m(\u001b[0m\u001b[0;34m)\u001b[0m\u001b[0;34m\u001b[0m\u001b[0m\n",
      "\u001b[0;32m~/.local/share/virtualenvs/tweet/lib/python3.6/site-packages/matplotlib/pyplot.py\u001b[0m in \u001b[0;36mhist\u001b[0;34m(x, bins, range, density, weights, cumulative, bottom, histtype, align, orientation, rwidth, log, color, label, stacked, normed, hold, data, **kwargs)\u001b[0m\n\u001b[1;32m   3115\u001b[0m          \u001b[0mrwidth\u001b[0m\u001b[0;34m=\u001b[0m\u001b[0;32mNone\u001b[0m\u001b[0;34m,\u001b[0m \u001b[0mlog\u001b[0m\u001b[0;34m=\u001b[0m\u001b[0;32mFalse\u001b[0m\u001b[0;34m,\u001b[0m \u001b[0mcolor\u001b[0m\u001b[0;34m=\u001b[0m\u001b[0;32mNone\u001b[0m\u001b[0;34m,\u001b[0m \u001b[0mlabel\u001b[0m\u001b[0;34m=\u001b[0m\u001b[0;32mNone\u001b[0m\u001b[0;34m,\u001b[0m \u001b[0mstacked\u001b[0m\u001b[0;34m=\u001b[0m\u001b[0;32mFalse\u001b[0m\u001b[0;34m,\u001b[0m\u001b[0;34m\u001b[0m\u001b[0m\n\u001b[1;32m   3116\u001b[0m          normed=None, hold=None, data=None, **kwargs):\n\u001b[0;32m-> 3117\u001b[0;31m     \u001b[0max\u001b[0m \u001b[0;34m=\u001b[0m \u001b[0mgca\u001b[0m\u001b[0;34m(\u001b[0m\u001b[0;34m)\u001b[0m\u001b[0;34m\u001b[0m\u001b[0m\n\u001b[0m\u001b[1;32m   3118\u001b[0m     \u001b[0;31m# Deprecated: allow callers to override the hold state\u001b[0m\u001b[0;34m\u001b[0m\u001b[0;34m\u001b[0m\u001b[0m\n\u001b[1;32m   3119\u001b[0m     \u001b[0;31m# by passing hold=True|False\u001b[0m\u001b[0;34m\u001b[0m\u001b[0;34m\u001b[0m\u001b[0m\n",
      "\u001b[0;32m~/.local/share/virtualenvs/tweet/lib/python3.6/site-packages/matplotlib/pyplot.py\u001b[0m in \u001b[0;36mgca\u001b[0;34m(**kwargs)\u001b[0m\n\u001b[1;32m    982\u001b[0m     \u001b[0mmatplotlib\u001b[0m\u001b[0;34m.\u001b[0m\u001b[0mfigure\u001b[0m\u001b[0;34m.\u001b[0m\u001b[0mFigure\u001b[0m\u001b[0;34m.\u001b[0m\u001b[0mgca\u001b[0m \u001b[0;34m:\u001b[0m \u001b[0mThe\u001b[0m \u001b[0mfigure\u001b[0m\u001b[0;31m'\u001b[0m\u001b[0ms\u001b[0m \u001b[0mgca\u001b[0m \u001b[0mmethod\u001b[0m\u001b[0;34m.\u001b[0m\u001b[0;34m\u001b[0m\u001b[0m\n\u001b[1;32m    983\u001b[0m     \"\"\"\n\u001b[0;32m--> 984\u001b[0;31m     \u001b[0;32mreturn\u001b[0m \u001b[0mgcf\u001b[0m\u001b[0;34m(\u001b[0m\u001b[0;34m)\u001b[0m\u001b[0;34m.\u001b[0m\u001b[0mgca\u001b[0m\u001b[0;34m(\u001b[0m\u001b[0;34m**\u001b[0m\u001b[0mkwargs\u001b[0m\u001b[0;34m)\u001b[0m\u001b[0;34m\u001b[0m\u001b[0m\n\u001b[0m\u001b[1;32m    985\u001b[0m \u001b[0;34m\u001b[0m\u001b[0m\n\u001b[1;32m    986\u001b[0m \u001b[0;31m# More ways of creating axes:\u001b[0m\u001b[0;34m\u001b[0m\u001b[0;34m\u001b[0m\u001b[0m\n",
      "\u001b[0;32m~/.local/share/virtualenvs/tweet/lib/python3.6/site-packages/matplotlib/pyplot.py\u001b[0m in \u001b[0;36mgcf\u001b[0;34m()\u001b[0m\n\u001b[1;32m    599\u001b[0m         \u001b[0;32mreturn\u001b[0m \u001b[0mfigManager\u001b[0m\u001b[0;34m.\u001b[0m\u001b[0mcanvas\u001b[0m\u001b[0;34m.\u001b[0m\u001b[0mfigure\u001b[0m\u001b[0;34m\u001b[0m\u001b[0m\n\u001b[1;32m    600\u001b[0m     \u001b[0;32melse\u001b[0m\u001b[0;34m:\u001b[0m\u001b[0;34m\u001b[0m\u001b[0m\n\u001b[0;32m--> 601\u001b[0;31m         \u001b[0;32mreturn\u001b[0m \u001b[0mfigure\u001b[0m\u001b[0;34m(\u001b[0m\u001b[0;34m)\u001b[0m\u001b[0;34m\u001b[0m\u001b[0m\n\u001b[0m\u001b[1;32m    602\u001b[0m \u001b[0;34m\u001b[0m\u001b[0m\n\u001b[1;32m    603\u001b[0m \u001b[0;34m\u001b[0m\u001b[0m\n",
      "\u001b[0;32m~/.local/share/virtualenvs/tweet/lib/python3.6/site-packages/matplotlib/pyplot.py\u001b[0m in \u001b[0;36mfigure\u001b[0;34m(num, figsize, dpi, facecolor, edgecolor, frameon, FigureClass, clear, **kwargs)\u001b[0m\n\u001b[1;32m    546\u001b[0m                                         \u001b[0mframeon\u001b[0m\u001b[0;34m=\u001b[0m\u001b[0mframeon\u001b[0m\u001b[0;34m,\u001b[0m\u001b[0;34m\u001b[0m\u001b[0m\n\u001b[1;32m    547\u001b[0m                                         \u001b[0mFigureClass\u001b[0m\u001b[0;34m=\u001b[0m\u001b[0mFigureClass\u001b[0m\u001b[0;34m,\u001b[0m\u001b[0;34m\u001b[0m\u001b[0m\n\u001b[0;32m--> 548\u001b[0;31m                                         **kwargs)\n\u001b[0m\u001b[1;32m    549\u001b[0m \u001b[0;34m\u001b[0m\u001b[0m\n\u001b[1;32m    550\u001b[0m         \u001b[0;32mif\u001b[0m \u001b[0mfigLabel\u001b[0m\u001b[0;34m:\u001b[0m\u001b[0;34m\u001b[0m\u001b[0m\n",
      "\u001b[0;32m~/.local/share/virtualenvs/tweet/lib/python3.6/site-packages/matplotlib/backend_bases.py\u001b[0m in \u001b[0;36mnew_figure_manager\u001b[0;34m(cls, num, *args, **kwargs)\u001b[0m\n\u001b[1;32m    159\u001b[0m         \u001b[0mfig_cls\u001b[0m \u001b[0;34m=\u001b[0m \u001b[0mkwargs\u001b[0m\u001b[0;34m.\u001b[0m\u001b[0mpop\u001b[0m\u001b[0;34m(\u001b[0m\u001b[0;34m'FigureClass'\u001b[0m\u001b[0;34m,\u001b[0m \u001b[0mFigure\u001b[0m\u001b[0;34m)\u001b[0m\u001b[0;34m\u001b[0m\u001b[0m\n\u001b[1;32m    160\u001b[0m         \u001b[0mfig\u001b[0m \u001b[0;34m=\u001b[0m \u001b[0mfig_cls\u001b[0m\u001b[0;34m(\u001b[0m\u001b[0;34m*\u001b[0m\u001b[0margs\u001b[0m\u001b[0;34m,\u001b[0m \u001b[0;34m**\u001b[0m\u001b[0mkwargs\u001b[0m\u001b[0;34m)\u001b[0m\u001b[0;34m\u001b[0m\u001b[0m\n\u001b[0;32m--> 161\u001b[0;31m         \u001b[0;32mreturn\u001b[0m \u001b[0mcls\u001b[0m\u001b[0;34m.\u001b[0m\u001b[0mnew_figure_manager_given_figure\u001b[0m\u001b[0;34m(\u001b[0m\u001b[0mnum\u001b[0m\u001b[0;34m,\u001b[0m \u001b[0mfig\u001b[0m\u001b[0;34m)\u001b[0m\u001b[0;34m\u001b[0m\u001b[0m\n\u001b[0m\u001b[1;32m    162\u001b[0m \u001b[0;34m\u001b[0m\u001b[0m\n\u001b[1;32m    163\u001b[0m     \u001b[0;34m@\u001b[0m\u001b[0mclassmethod\u001b[0m\u001b[0;34m\u001b[0m\u001b[0m\n",
      "\u001b[0;32m~/.local/share/virtualenvs/tweet/lib/python3.6/site-packages/matplotlib/backends/_backend_tk.py\u001b[0m in \u001b[0;36mnew_figure_manager_given_figure\u001b[0;34m(cls, num, figure)\u001b[0m\n\u001b[1;32m   1042\u001b[0m         \"\"\"\n\u001b[1;32m   1043\u001b[0m         \u001b[0m_focus\u001b[0m \u001b[0;34m=\u001b[0m \u001b[0mwindowing\u001b[0m\u001b[0;34m.\u001b[0m\u001b[0mFocusManager\u001b[0m\u001b[0;34m(\u001b[0m\u001b[0;34m)\u001b[0m\u001b[0;34m\u001b[0m\u001b[0m\n\u001b[0;32m-> 1044\u001b[0;31m         \u001b[0mwindow\u001b[0m \u001b[0;34m=\u001b[0m \u001b[0mTk\u001b[0m\u001b[0;34m.\u001b[0m\u001b[0mTk\u001b[0m\u001b[0;34m(\u001b[0m\u001b[0mclassName\u001b[0m\u001b[0;34m=\u001b[0m\u001b[0;34m\"matplotlib\"\u001b[0m\u001b[0;34m)\u001b[0m\u001b[0;34m\u001b[0m\u001b[0m\n\u001b[0m\u001b[1;32m   1045\u001b[0m         \u001b[0mwindow\u001b[0m\u001b[0;34m.\u001b[0m\u001b[0mwithdraw\u001b[0m\u001b[0;34m(\u001b[0m\u001b[0;34m)\u001b[0m\u001b[0;34m\u001b[0m\u001b[0m\n\u001b[1;32m   1046\u001b[0m \u001b[0;34m\u001b[0m\u001b[0m\n",
      "\u001b[0;32m~/anaconda3/lib64/python3.6/tkinter/__init__.py\u001b[0m in \u001b[0;36m__init__\u001b[0;34m(self, screenName, baseName, className, useTk, sync, use)\u001b[0m\n\u001b[1;32m   2015\u001b[0m                 \u001b[0mbaseName\u001b[0m \u001b[0;34m=\u001b[0m \u001b[0mbaseName\u001b[0m \u001b[0;34m+\u001b[0m \u001b[0mext\u001b[0m\u001b[0;34m\u001b[0m\u001b[0m\n\u001b[1;32m   2016\u001b[0m         \u001b[0minteractive\u001b[0m \u001b[0;34m=\u001b[0m \u001b[0;36m0\u001b[0m\u001b[0;34m\u001b[0m\u001b[0m\n\u001b[0;32m-> 2017\u001b[0;31m         \u001b[0mself\u001b[0m\u001b[0;34m.\u001b[0m\u001b[0mtk\u001b[0m \u001b[0;34m=\u001b[0m \u001b[0m_tkinter\u001b[0m\u001b[0;34m.\u001b[0m\u001b[0mcreate\u001b[0m\u001b[0;34m(\u001b[0m\u001b[0mscreenName\u001b[0m\u001b[0;34m,\u001b[0m \u001b[0mbaseName\u001b[0m\u001b[0;34m,\u001b[0m \u001b[0mclassName\u001b[0m\u001b[0;34m,\u001b[0m \u001b[0minteractive\u001b[0m\u001b[0;34m,\u001b[0m \u001b[0mwantobjects\u001b[0m\u001b[0;34m,\u001b[0m \u001b[0museTk\u001b[0m\u001b[0;34m,\u001b[0m \u001b[0msync\u001b[0m\u001b[0;34m,\u001b[0m \u001b[0muse\u001b[0m\u001b[0;34m)\u001b[0m\u001b[0;34m\u001b[0m\u001b[0m\n\u001b[0m\u001b[1;32m   2018\u001b[0m         \u001b[0;32mif\u001b[0m \u001b[0museTk\u001b[0m\u001b[0;34m:\u001b[0m\u001b[0;34m\u001b[0m\u001b[0m\n\u001b[1;32m   2019\u001b[0m             \u001b[0mself\u001b[0m\u001b[0;34m.\u001b[0m\u001b[0m_loadtk\u001b[0m\u001b[0;34m(\u001b[0m\u001b[0;34m)\u001b[0m\u001b[0;34m\u001b[0m\u001b[0m\n",
      "\u001b[0;31mTclError\u001b[0m: no display name and no $DISPLAY environment variable"
     ]
    }
   ],
   "source": [
    "TweetRetweetCount = model_df['TweetRetweetCount']\n",
    "plt.hist(TweetRetweetCount, bins=2)\n",
    "plt.title(\"Number of TweetRetweetCount of a tweet\")\n",
    "plt.show()"
   ]
  },
  {
   "cell_type": "code",
   "execution_count": null,
   "metadata": {
    "collapsed": true
   },
   "outputs": [],
   "source": [
    "hist = TweetRetweetCount.hist(bins=3)"
   ]
  },
  {
   "cell_type": "markdown",
   "metadata": {},
   "source": [
    " Most of the values are 0 and only few of the tweets are popular which is very practial as not all tweets can be popular.\n",
    " A normal linear regression based model can be tried but since there is a huge variation in the output labels(TweetRetweetCount) it may not be useful. We should look at other types of regressin model for this an probably quatile regression should be good choice. Also the metric like root mean square error (RMSE) is popular for these kind of task but it will not be justified to use here since it appears that most of the output is 0 or closer to zero and only a few of them are large continous variables. we can try modeified RMSE on values that are more than 0.95 percentile and values that are less that 0.95 percentile\n"
   ]
  },
  {
   "cell_type": "code",
   "execution_count": 19,
   "metadata": {
    "collapsed": true
   },
   "outputs": [],
   "source": [
    "## Create a test and train files\n",
    "from sklearn.model_selection import train_test_split\n",
    "df_train, df_test = train_test_split(model_df, test_size=0.2) \n",
    "                                     "
   ]
  },
  {
   "cell_type": "code",
   "execution_count": 20,
   "metadata": {
    "collapsed": true
   },
   "outputs": [],
   "source": [
    "df_train=df_train.reset_index(drop=True)\n",
    "df_test = df_test.reset_index(drop=True)"
   ]
  },
  {
   "cell_type": "code",
   "execution_count": 21,
   "metadata": {},
   "outputs": [
    {
     "data": {
      "text/plain": [
       "(3102, 6)"
      ]
     },
     "execution_count": 21,
     "metadata": {},
     "output_type": "execute_result"
    }
   ],
   "source": [
    "df_test.shape"
   ]
  },
  {
   "cell_type": "code",
   "execution_count": 22,
   "metadata": {
    "collapsed": true
   },
   "outputs": [],
   "source": [
    "#creating content feature from tweet body as they can significantly influence the retweet counts\n",
    "from sklearn.feature_extraction.text import CountVectorizer,TfidfTransformer\n",
    "transform_tweet = CountVectorizer(min_df =0.03,stop_words='english')## save this vectorizer for test set\n",
    "x_train_tweeet = transform_tweet.fit_transform(df_train['TweetBody'])\n",
    "tfidf_trfm = TfidfTransformer()\n",
    "X_tr_tfidf = tfidf_trfm.fit_transform(x_train_tweeet)\n"
   ]
  },
  {
   "cell_type": "code",
   "execution_count": 23,
   "metadata": {},
   "outputs": [
    {
     "data": {
      "text/plain": [
       "(12404, 19)"
      ]
     },
     "execution_count": 23,
     "metadata": {},
     "output_type": "execute_result"
    }
   ],
   "source": [
    "X_tr_tfidf.shape"
   ]
  },
  {
   "cell_type": "code",
   "execution_count": 24,
   "metadata": {
    "collapsed": true
   },
   "outputs": [],
   "source": [
    "x_test = transform_tweet.transform(df_test['TweetBody'])\n",
    "X_te_tfidf = tfidf_trfm.transform(x_test)"
   ]
  },
  {
   "cell_type": "code",
   "execution_count": 25,
   "metadata": {},
   "outputs": [
    {
     "data": {
      "text/plain": [
       "(3102, 19)"
      ]
     },
     "execution_count": 25,
     "metadata": {},
     "output_type": "execute_result"
    }
   ],
   "source": [
    "X_te_tfidf.shape"
   ]
  },
  {
   "cell_type": "code",
   "execution_count": 26,
   "metadata": {
    "collapsed": true
   },
   "outputs": [],
   "source": [
    "count_vect_df = pd.DataFrame(X_tr_tfidf.todense(), columns=transform_tweet.get_feature_names())\n",
    "count_vect_df_test = pd.DataFrame(X_te_tfidf.todense(), columns=transform_tweet.get_feature_names())"
   ]
  },
  {
   "cell_type": "code",
   "execution_count": 27,
   "metadata": {
    "collapsed": true
   },
   "outputs": [],
   "source": [
    "df_train= pd.concat([df_train.drop(['TweetBody'], axis=1), count_vect_df], axis=1)\n",
    "df_test= pd.concat([df_test.drop(['TweetBody'], axis=1), count_vect_df_test], axis=1)"
   ]
  },
  {
   "cell_type": "code",
   "execution_count": 28,
   "metadata": {},
   "outputs": [
    {
     "name": "stdout",
     "output_type": "stream",
     "text": [
      "<class 'pandas.core.frame.DataFrame'>\n",
      "RangeIndex: 12404 entries, 0 to 12403\n",
      "Data columns (total 24 columns):\n",
      "TweetRetweetCount     12404 non-null int64\n",
      "UserTweetCount        12404 non-null int64\n",
      "UserListedCount       12404 non-null int64\n",
      "UserFriendsCount      12404 non-null int64\n",
      "UserFollowersCount    12404 non-null int64\n",
      "amp                   12404 non-null float64\n",
      "best                  12404 non-null float64\n",
      "christmas             12404 non-null float64\n",
      "daily                 12404 non-null float64\n",
      "holiday               12404 non-null float64\n",
      "https                 12404 non-null float64\n",
      "japan                 12404 non-null float64\n",
      "japantravel           12404 non-null float64\n",
      "latest                12404 non-null float64\n",
      "new                   12404 non-null float64\n",
      "photography           12404 non-null float64\n",
      "rt                    12404 non-null float64\n",
      "thanks                12404 non-null float64\n",
      "tourism               12404 non-null float64\n",
      "travel                12404 non-null float64\n",
      "traveller             12404 non-null float64\n",
      "ttot                  12404 non-null float64\n",
      "vacation              12404 non-null float64\n",
      "world                 12404 non-null float64\n",
      "dtypes: float64(19), int64(5)\n",
      "memory usage: 2.3 MB\n"
     ]
    }
   ],
   "source": [
    "df_train.info()"
   ]
  },
  {
   "cell_type": "code",
   "execution_count": 28,
   "metadata": {},
   "outputs": [
    {
     "data": {
      "text/plain": [
       "GradientBoostingRegressor(alpha=0.95, criterion='friedman_mse', init=None,\n",
       "             learning_rate=0.01, loss='quantile', max_depth=10,\n",
       "             max_features=None, max_leaf_nodes=None,\n",
       "             min_impurity_decrease=0.0, min_impurity_split=None,\n",
       "             min_samples_leaf=9, min_samples_split=9,\n",
       "             min_weight_fraction_leaf=0.0, n_estimators=100,\n",
       "             presort='auto', random_state=None, subsample=1.0, verbose=0,\n",
       "             warm_start=False)"
      ]
     },
     "execution_count": 28,
     "metadata": {},
     "output_type": "execute_result"
    }
   ],
   "source": [
    "import numpy as np\n",
    "from sklearn.ensemble import GradientBoostingRegressor\n",
    "np.random.seed(1)\n",
    "\n",
    "Y_train = df_train['TweetRetweetCount']\n",
    "X_test = df_test.drop('TweetRetweetCount',axis=1)\n",
    "Y_test = df_test['TweetRetweetCount']\n",
    "X_train= df_train.drop('TweetRetweetCount',axis=1)\n",
    "\n",
    "alpha = 0.95\n",
    "\n",
    "clf = GradientBoostingRegressor(loss='quantile', alpha=alpha,\n",
    "                                n_estimators=100, max_depth=10,\n",
    "                                learning_rate=.01, min_samples_leaf=9,\n",
    "                                min_samples_split=9)\n",
    "\n",
    "clf.fit(X_train, Y_train)\n",
    "\n"
   ]
  },
  {
   "cell_type": "code",
   "execution_count": 29,
   "metadata": {
    "collapsed": true
   },
   "outputs": [],
   "source": [
    "feature_importance = clf.feature_importances_ "
   ]
  },
  {
   "cell_type": "code",
   "execution_count": 30,
   "metadata": {
    "collapsed": true
   },
   "outputs": [],
   "source": [
    "feature = X_train.columns"
   ]
  },
  {
   "cell_type": "code",
   "execution_count": 31,
   "metadata": {
    "collapsed": true
   },
   "outputs": [],
   "source": [
    "def sort_list(list1, list2):\n",
    " \n",
    "    zipped_pairs = zip(list2, list1)\n",
    " \n",
    "    z = [x for _, x in sorted(zipped_pairs)]\n",
    "     \n",
    "    return z"
   ]
  },
  {
   "cell_type": "code",
   "execution_count": 35,
   "metadata": {
    "collapsed": true
   },
   "outputs": [
    {
     "data": {
      "text/plain": [
       "['traveller',\n",
       " 'ttot',\n",
       " 'vacation',\n",
       " 'world',\n",
       " 'https',\n",
       " 'latest',\n",
       " 'rt',\n",
       " 'UserFollowersCount',\n",
       " 'photography',\n",
       " 'travel',\n",
       " 'best',\n",
       " 'UserListedCount',\n",
       " 'amp',\n",
       " 'new',\n",
       " 'thanks',\n",
       " 'UserFriendsCount',\n",
       " 'christmas',\n",
       " 'daily',\n",
       " 'tourism',\n",
       " 'UserTweetCount',\n",
       " 'japan',\n",
       " 'holiday',\n",
       " 'japantravel']"
      ]
     },
     "execution_count": 35,
     "metadata": {},
     "output_type": "execute_result"
    }
   ],
   "source": [
    "sort_list(feature,sorted_idx)"
   ]
  },
  {
   "cell_type": "code",
   "execution_count": 1,
   "metadata": {},
   "outputs": [],
   "source": [
    "from sklearn import datasets"
   ]
  },
  {
   "cell_type": "code",
   "execution_count": 2,
   "metadata": {
    "collapsed": true
   },
   "outputs": [],
   "source": [
    "boston = datasets.load_boston()"
   ]
  },
  {
   "cell_type": "code",
   "execution_count": 3,
   "metadata": {
    "collapsed": true
   },
   "outputs": [
    {
     "data": {
      "text/plain": [
       "{'DESCR': \"Boston House Prices dataset\\n===========================\\n\\nNotes\\n------\\nData Set Characteristics:  \\n\\n    :Number of Instances: 506 \\n\\n    :Number of Attributes: 13 numeric/categorical predictive\\n    \\n    :Median Value (attribute 14) is usually the target\\n\\n    :Attribute Information (in order):\\n        - CRIM     per capita crime rate by town\\n        - ZN       proportion of residential land zoned for lots over 25,000 sq.ft.\\n        - INDUS    proportion of non-retail business acres per town\\n        - CHAS     Charles River dummy variable (= 1 if tract bounds river; 0 otherwise)\\n        - NOX      nitric oxides concentration (parts per 10 million)\\n        - RM       average number of rooms per dwelling\\n        - AGE      proportion of owner-occupied units built prior to 1940\\n        - DIS      weighted distances to five Boston employment centres\\n        - RAD      index of accessibility to radial highways\\n        - TAX      full-value property-tax rate per $10,000\\n        - PTRATIO  pupil-teacher ratio by town\\n        - B        1000(Bk - 0.63)^2 where Bk is the proportion of blacks by town\\n        - LSTAT    % lower status of the population\\n        - MEDV     Median value of owner-occupied homes in $1000's\\n\\n    :Missing Attribute Values: None\\n\\n    :Creator: Harrison, D. and Rubinfeld, D.L.\\n\\nThis is a copy of UCI ML housing dataset.\\nhttp://archive.ics.uci.edu/ml/datasets/Housing\\n\\n\\nThis dataset was taken from the StatLib library which is maintained at Carnegie Mellon University.\\n\\nThe Boston house-price data of Harrison, D. and Rubinfeld, D.L. 'Hedonic\\nprices and the demand for clean air', J. Environ. Economics & Management,\\nvol.5, 81-102, 1978.   Used in Belsley, Kuh & Welsch, 'Regression diagnostics\\n...', Wiley, 1980.   N.B. Various transformations are used in the table on\\npages 244-261 of the latter.\\n\\nThe Boston house-price data has been used in many machine learning papers that address regression\\nproblems.   \\n     \\n**References**\\n\\n   - Belsley, Kuh & Welsch, 'Regression diagnostics: Identifying Influential Data and Sources of Collinearity', Wiley, 1980. 244-261.\\n   - Quinlan,R. (1993). Combining Instance-Based and Model-Based Learning. In Proceedings on the Tenth International Conference of Machine Learning, 236-243, University of Massachusetts, Amherst. Morgan Kaufmann.\\n   - many more! (see http://archive.ics.uci.edu/ml/datasets/Housing)\\n\",\n",
       " 'data': array([[6.3200e-03, 1.8000e+01, 2.3100e+00, ..., 1.5300e+01, 3.9690e+02,\n",
       "         4.9800e+00],\n",
       "        [2.7310e-02, 0.0000e+00, 7.0700e+00, ..., 1.7800e+01, 3.9690e+02,\n",
       "         9.1400e+00],\n",
       "        [2.7290e-02, 0.0000e+00, 7.0700e+00, ..., 1.7800e+01, 3.9283e+02,\n",
       "         4.0300e+00],\n",
       "        ...,\n",
       "        [6.0760e-02, 0.0000e+00, 1.1930e+01, ..., 2.1000e+01, 3.9690e+02,\n",
       "         5.6400e+00],\n",
       "        [1.0959e-01, 0.0000e+00, 1.1930e+01, ..., 2.1000e+01, 3.9345e+02,\n",
       "         6.4800e+00],\n",
       "        [4.7410e-02, 0.0000e+00, 1.1930e+01, ..., 2.1000e+01, 3.9690e+02,\n",
       "         7.8800e+00]]),\n",
       " 'feature_names': array(['CRIM', 'ZN', 'INDUS', 'CHAS', 'NOX', 'RM', 'AGE', 'DIS', 'RAD',\n",
       "        'TAX', 'PTRATIO', 'B', 'LSTAT'], dtype='<U7'),\n",
       " 'target': array([24. , 21.6, 34.7, 33.4, 36.2, 28.7, 22.9, 27.1, 16.5, 18.9, 15. ,\n",
       "        18.9, 21.7, 20.4, 18.2, 19.9, 23.1, 17.5, 20.2, 18.2, 13.6, 19.6,\n",
       "        15.2, 14.5, 15.6, 13.9, 16.6, 14.8, 18.4, 21. , 12.7, 14.5, 13.2,\n",
       "        13.1, 13.5, 18.9, 20. , 21. , 24.7, 30.8, 34.9, 26.6, 25.3, 24.7,\n",
       "        21.2, 19.3, 20. , 16.6, 14.4, 19.4, 19.7, 20.5, 25. , 23.4, 18.9,\n",
       "        35.4, 24.7, 31.6, 23.3, 19.6, 18.7, 16. , 22.2, 25. , 33. , 23.5,\n",
       "        19.4, 22. , 17.4, 20.9, 24.2, 21.7, 22.8, 23.4, 24.1, 21.4, 20. ,\n",
       "        20.8, 21.2, 20.3, 28. , 23.9, 24.8, 22.9, 23.9, 26.6, 22.5, 22.2,\n",
       "        23.6, 28.7, 22.6, 22. , 22.9, 25. , 20.6, 28.4, 21.4, 38.7, 43.8,\n",
       "        33.2, 27.5, 26.5, 18.6, 19.3, 20.1, 19.5, 19.5, 20.4, 19.8, 19.4,\n",
       "        21.7, 22.8, 18.8, 18.7, 18.5, 18.3, 21.2, 19.2, 20.4, 19.3, 22. ,\n",
       "        20.3, 20.5, 17.3, 18.8, 21.4, 15.7, 16.2, 18. , 14.3, 19.2, 19.6,\n",
       "        23. , 18.4, 15.6, 18.1, 17.4, 17.1, 13.3, 17.8, 14. , 14.4, 13.4,\n",
       "        15.6, 11.8, 13.8, 15.6, 14.6, 17.8, 15.4, 21.5, 19.6, 15.3, 19.4,\n",
       "        17. , 15.6, 13.1, 41.3, 24.3, 23.3, 27. , 50. , 50. , 50. , 22.7,\n",
       "        25. , 50. , 23.8, 23.8, 22.3, 17.4, 19.1, 23.1, 23.6, 22.6, 29.4,\n",
       "        23.2, 24.6, 29.9, 37.2, 39.8, 36.2, 37.9, 32.5, 26.4, 29.6, 50. ,\n",
       "        32. , 29.8, 34.9, 37. , 30.5, 36.4, 31.1, 29.1, 50. , 33.3, 30.3,\n",
       "        34.6, 34.9, 32.9, 24.1, 42.3, 48.5, 50. , 22.6, 24.4, 22.5, 24.4,\n",
       "        20. , 21.7, 19.3, 22.4, 28.1, 23.7, 25. , 23.3, 28.7, 21.5, 23. ,\n",
       "        26.7, 21.7, 27.5, 30.1, 44.8, 50. , 37.6, 31.6, 46.7, 31.5, 24.3,\n",
       "        31.7, 41.7, 48.3, 29. , 24. , 25.1, 31.5, 23.7, 23.3, 22. , 20.1,\n",
       "        22.2, 23.7, 17.6, 18.5, 24.3, 20.5, 24.5, 26.2, 24.4, 24.8, 29.6,\n",
       "        42.8, 21.9, 20.9, 44. , 50. , 36. , 30.1, 33.8, 43.1, 48.8, 31. ,\n",
       "        36.5, 22.8, 30.7, 50. , 43.5, 20.7, 21.1, 25.2, 24.4, 35.2, 32.4,\n",
       "        32. , 33.2, 33.1, 29.1, 35.1, 45.4, 35.4, 46. , 50. , 32.2, 22. ,\n",
       "        20.1, 23.2, 22.3, 24.8, 28.5, 37.3, 27.9, 23.9, 21.7, 28.6, 27.1,\n",
       "        20.3, 22.5, 29. , 24.8, 22. , 26.4, 33.1, 36.1, 28.4, 33.4, 28.2,\n",
       "        22.8, 20.3, 16.1, 22.1, 19.4, 21.6, 23.8, 16.2, 17.8, 19.8, 23.1,\n",
       "        21. , 23.8, 23.1, 20.4, 18.5, 25. , 24.6, 23. , 22.2, 19.3, 22.6,\n",
       "        19.8, 17.1, 19.4, 22.2, 20.7, 21.1, 19.5, 18.5, 20.6, 19. , 18.7,\n",
       "        32.7, 16.5, 23.9, 31.2, 17.5, 17.2, 23.1, 24.5, 26.6, 22.9, 24.1,\n",
       "        18.6, 30.1, 18.2, 20.6, 17.8, 21.7, 22.7, 22.6, 25. , 19.9, 20.8,\n",
       "        16.8, 21.9, 27.5, 21.9, 23.1, 50. , 50. , 50. , 50. , 50. , 13.8,\n",
       "        13.8, 15. , 13.9, 13.3, 13.1, 10.2, 10.4, 10.9, 11.3, 12.3,  8.8,\n",
       "         7.2, 10.5,  7.4, 10.2, 11.5, 15.1, 23.2,  9.7, 13.8, 12.7, 13.1,\n",
       "        12.5,  8.5,  5. ,  6.3,  5.6,  7.2, 12.1,  8.3,  8.5,  5. , 11.9,\n",
       "        27.9, 17.2, 27.5, 15. , 17.2, 17.9, 16.3,  7. ,  7.2,  7.5, 10.4,\n",
       "         8.8,  8.4, 16.7, 14.2, 20.8, 13.4, 11.7,  8.3, 10.2, 10.9, 11. ,\n",
       "         9.5, 14.5, 14.1, 16.1, 14.3, 11.7, 13.4,  9.6,  8.7,  8.4, 12.8,\n",
       "        10.5, 17.1, 18.4, 15.4, 10.8, 11.8, 14.9, 12.6, 14.1, 13. , 13.4,\n",
       "        15.2, 16.1, 17.8, 14.9, 14.1, 12.7, 13.5, 14.9, 20. , 16.4, 17.7,\n",
       "        19.5, 20.2, 21.4, 19.9, 19. , 19.1, 19.1, 20.1, 19.9, 19.6, 23.2,\n",
       "        29.8, 13.8, 13.3, 16.7, 12. , 14.6, 21.4, 23. , 23.7, 25. , 21.8,\n",
       "        20.6, 21.2, 19.1, 20.6, 15.2,  7. ,  8.1, 13.6, 20.1, 21.8, 24.5,\n",
       "        23.1, 19.7, 18.3, 21.2, 17.5, 16.8, 22.4, 20.6, 23.9, 22. , 11.9])}"
      ]
     },
     "execution_count": 3,
     "metadata": {},
     "output_type": "execute_result"
    }
   ],
   "source": [
    "boston"
   ]
  },
  {
   "cell_type": "code",
   "execution_count": 36,
   "metadata": {},
   "outputs": [
    {
     "data": {
      "image/png": "[encoded data removed]",
      "text/plain": [
       "<matplotlib.figure.Figure at 0x7fb4b6807f60>"
      ]
     },
     "metadata": {},
     "output_type": "display_data"
    }
   ],
   "source": [
    "feature_importance = 100.0 * (feature_importance / feature_importance.max())\n",
    "sorted_idx = np.argsort(feature_importance)\n",
    "pos = np.arange(sorted_idx.shape[0]) + .5\n",
    "plt.subplot(1, 2, 2)\n",
    "plt.barh(pos, feature_importance[sorted_idx], align='center')\n",
    "plt.yticks(pos, sort_list(feature,sorted_idx))\n",
    "plt.xlabel('Relative Importance')\n",
    "plt.title('Variable Importance')\n",
    "plt.show()"
   ]
  },
  {
   "cell_type": "code",
   "execution_count": 53,
   "metadata": {
    "collapsed": true
   },
   "outputs": [],
   "source": [
    "# Make the prediction\n",
    "y_pred = clf.predict(X_test) # prediction with trained model\n",
    "y_0 = np.zeros(len(Y_test.values), dtype = int) # prediction by assuming all predicitons to zero as most of the data is zero\n",
    "y_mean = np.full(len(Y_test.values), np.mean(Y_test.values)) # prediction with mean value of the data just to create baselines"
   ]
  },
  {
   "cell_type": "code",
   "execution_count": 58,
   "metadata": {
    "collapsed": true
   },
   "outputs": [],
   "source": [
    "y_pred = clf.predict(X_train) # prediction with trained model\n",
    "y_0 = np.zeros(len(Y_train.values), dtype = int) # prediction by assuming all predicitons to zero as most of the data is zero\n",
    "y_mean = np.full(len(Y_train.values), np.mean(Y_train.values)) # prediction with mean value of the data just to create baselines"
   ]
  },
  {
   "cell_type": "code",
   "execution_count": 60,
   "metadata": {
    "collapsed": true
   },
   "outputs": [],
   "source": [
    "# Creatign pandas dataframe\n",
    "test_array = np.vstack((Y_train.values,y_pred,y_0,y_mean)).T\n",
    "# columns\n",
    "columns_new = ['ground', 'prediction','prediction_0', 'prediction_mean']\n",
    "\n",
    "# pass in array and columns\n",
    "pred_df = pd.DataFrame(test_array, columns=columns_new)"
   ]
  },
  {
   "cell_type": "code",
   "execution_count": 64,
   "metadata": {
    "collapsed": true
   },
   "outputs": [],
   "source": [
    "pred_df_95 = pred_df[pred_df.ground < np.percentile(pred_df.ground,95)]\n",
    "pred_df_100 = pred_df[pred_df.ground > np.percentile(pred_df.ground,95)]"
   ]
  },
  {
   "cell_type": "code",
   "execution_count": 65,
   "metadata": {
    "collapsed": true
   },
   "outputs": [
    {
     "data": {
      "text/html": [
       "<div>\n",
       "<style>\n",
       "    .dataframe thead tr:only-child th {\n",
       "        text-align: right;\n",
       "    }\n",
       "\n",
       "    .dataframe thead th {\n",
       "        text-align: left;\n",
       "    }\n",
       "\n",
       "    .dataframe tbody tr th {\n",
       "        vertical-align: top;\n",
       "    }\n",
       "</style>\n",
       "<table border=\"1\" class=\"dataframe\">\n",
       "  <thead>\n",
       "    <tr style=\"text-align: right;\">\n",
       "      <th></th>\n",
       "      <th>ground</th>\n",
       "      <th>prediction</th>\n",
       "      <th>prediction_0</th>\n",
       "      <th>prediction_mean</th>\n",
       "    </tr>\n",
       "  </thead>\n",
       "  <tbody>\n",
       "    <tr>\n",
       "      <th>6</th>\n",
       "      <td>10.0</td>\n",
       "      <td>14.733293</td>\n",
       "      <td>0.0</td>\n",
       "      <td>2.538536</td>\n",
       "    </tr>\n",
       "    <tr>\n",
       "      <th>39</th>\n",
       "      <td>4.0</td>\n",
       "      <td>3.988005</td>\n",
       "      <td>0.0</td>\n",
       "      <td>2.538536</td>\n",
       "    </tr>\n",
       "    <tr>\n",
       "      <th>90</th>\n",
       "      <td>4.0</td>\n",
       "      <td>8.171005</td>\n",
       "      <td>0.0</td>\n",
       "      <td>2.538536</td>\n",
       "    </tr>\n",
       "    <tr>\n",
       "      <th>108</th>\n",
       "      <td>11.0</td>\n",
       "      <td>19.037900</td>\n",
       "      <td>0.0</td>\n",
       "      <td>2.538536</td>\n",
       "    </tr>\n",
       "    <tr>\n",
       "      <th>113</th>\n",
       "      <td>5.0</td>\n",
       "      <td>5.076090</td>\n",
       "      <td>0.0</td>\n",
       "      <td>2.538536</td>\n",
       "    </tr>\n",
       "    <tr>\n",
       "      <th>174</th>\n",
       "      <td>3.0</td>\n",
       "      <td>3.006268</td>\n",
       "      <td>0.0</td>\n",
       "      <td>2.538536</td>\n",
       "    </tr>\n",
       "    <tr>\n",
       "      <th>208</th>\n",
       "      <td>4.0</td>\n",
       "      <td>24.838293</td>\n",
       "      <td>0.0</td>\n",
       "      <td>2.538536</td>\n",
       "    </tr>\n",
       "    <tr>\n",
       "      <th>253</th>\n",
       "      <td>4.0</td>\n",
       "      <td>3.764142</td>\n",
       "      <td>0.0</td>\n",
       "      <td>2.538536</td>\n",
       "    </tr>\n",
       "    <tr>\n",
       "      <th>310</th>\n",
       "      <td>4.0</td>\n",
       "      <td>3.989744</td>\n",
       "      <td>0.0</td>\n",
       "      <td>2.538536</td>\n",
       "    </tr>\n",
       "    <tr>\n",
       "      <th>333</th>\n",
       "      <td>3.0</td>\n",
       "      <td>2.221758</td>\n",
       "      <td>0.0</td>\n",
       "      <td>2.538536</td>\n",
       "    </tr>\n",
       "    <tr>\n",
       "      <th>380</th>\n",
       "      <td>6.0</td>\n",
       "      <td>6.310653</td>\n",
       "      <td>0.0</td>\n",
       "      <td>2.538536</td>\n",
       "    </tr>\n",
       "    <tr>\n",
       "      <th>425</th>\n",
       "      <td>15.0</td>\n",
       "      <td>7.737472</td>\n",
       "      <td>0.0</td>\n",
       "      <td>2.538536</td>\n",
       "    </tr>\n",
       "    <tr>\n",
       "      <th>439</th>\n",
       "      <td>4.0</td>\n",
       "      <td>3.254549</td>\n",
       "      <td>0.0</td>\n",
       "      <td>2.538536</td>\n",
       "    </tr>\n",
       "    <tr>\n",
       "      <th>453</th>\n",
       "      <td>4.0</td>\n",
       "      <td>2.271328</td>\n",
       "      <td>0.0</td>\n",
       "      <td>2.538536</td>\n",
       "    </tr>\n",
       "    <tr>\n",
       "      <th>571</th>\n",
       "      <td>5.0</td>\n",
       "      <td>13.676171</td>\n",
       "      <td>0.0</td>\n",
       "      <td>2.538536</td>\n",
       "    </tr>\n",
       "    <tr>\n",
       "      <th>590</th>\n",
       "      <td>4.0</td>\n",
       "      <td>9.758652</td>\n",
       "      <td>0.0</td>\n",
       "      <td>2.538536</td>\n",
       "    </tr>\n",
       "    <tr>\n",
       "      <th>630</th>\n",
       "      <td>7.0</td>\n",
       "      <td>8.960014</td>\n",
       "      <td>0.0</td>\n",
       "      <td>2.538536</td>\n",
       "    </tr>\n",
       "    <tr>\n",
       "      <th>643</th>\n",
       "      <td>7.0</td>\n",
       "      <td>5.066699</td>\n",
       "      <td>0.0</td>\n",
       "      <td>2.538536</td>\n",
       "    </tr>\n",
       "    <tr>\n",
       "      <th>663</th>\n",
       "      <td>3.0</td>\n",
       "      <td>3.786366</td>\n",
       "      <td>0.0</td>\n",
       "      <td>2.538536</td>\n",
       "    </tr>\n",
       "    <tr>\n",
       "      <th>668</th>\n",
       "      <td>5.0</td>\n",
       "      <td>3.845585</td>\n",
       "      <td>0.0</td>\n",
       "      <td>2.538536</td>\n",
       "    </tr>\n",
       "    <tr>\n",
       "      <th>669</th>\n",
       "      <td>3.0</td>\n",
       "      <td>3.259705</td>\n",
       "      <td>0.0</td>\n",
       "      <td>2.538536</td>\n",
       "    </tr>\n",
       "    <tr>\n",
       "      <th>681</th>\n",
       "      <td>4.0</td>\n",
       "      <td>6.176684</td>\n",
       "      <td>0.0</td>\n",
       "      <td>2.538536</td>\n",
       "    </tr>\n",
       "    <tr>\n",
       "      <th>682</th>\n",
       "      <td>3.0</td>\n",
       "      <td>8.948305</td>\n",
       "      <td>0.0</td>\n",
       "      <td>2.538536</td>\n",
       "    </tr>\n",
       "    <tr>\n",
       "      <th>756</th>\n",
       "      <td>99.0</td>\n",
       "      <td>29.707684</td>\n",
       "      <td>0.0</td>\n",
       "      <td>2.538536</td>\n",
       "    </tr>\n",
       "    <tr>\n",
       "      <th>820</th>\n",
       "      <td>9.0</td>\n",
       "      <td>29.192016</td>\n",
       "      <td>0.0</td>\n",
       "      <td>2.538536</td>\n",
       "    </tr>\n",
       "    <tr>\n",
       "      <th>934</th>\n",
       "      <td>5.0</td>\n",
       "      <td>29.903111</td>\n",
       "      <td>0.0</td>\n",
       "      <td>2.538536</td>\n",
       "    </tr>\n",
       "    <tr>\n",
       "      <th>944</th>\n",
       "      <td>25.0</td>\n",
       "      <td>8.171005</td>\n",
       "      <td>0.0</td>\n",
       "      <td>2.538536</td>\n",
       "    </tr>\n",
       "    <tr>\n",
       "      <th>978</th>\n",
       "      <td>3.0</td>\n",
       "      <td>3.178148</td>\n",
       "      <td>0.0</td>\n",
       "      <td>2.538536</td>\n",
       "    </tr>\n",
       "    <tr>\n",
       "      <th>1026</th>\n",
       "      <td>3.0</td>\n",
       "      <td>4.288912</td>\n",
       "      <td>0.0</td>\n",
       "      <td>2.538536</td>\n",
       "    </tr>\n",
       "    <tr>\n",
       "      <th>1046</th>\n",
       "      <td>3.0</td>\n",
       "      <td>1.141507</td>\n",
       "      <td>0.0</td>\n",
       "      <td>2.538536</td>\n",
       "    </tr>\n",
       "    <tr>\n",
       "      <th>...</th>\n",
       "      <td>...</td>\n",
       "      <td>...</td>\n",
       "      <td>...</td>\n",
       "      <td>...</td>\n",
       "    </tr>\n",
       "    <tr>\n",
       "      <th>11577</th>\n",
       "      <td>7.0</td>\n",
       "      <td>7.576579</td>\n",
       "      <td>0.0</td>\n",
       "      <td>2.538536</td>\n",
       "    </tr>\n",
       "    <tr>\n",
       "      <th>11578</th>\n",
       "      <td>10.0</td>\n",
       "      <td>9.009250</td>\n",
       "      <td>0.0</td>\n",
       "      <td>2.538536</td>\n",
       "    </tr>\n",
       "    <tr>\n",
       "      <th>11580</th>\n",
       "      <td>7.0</td>\n",
       "      <td>2.061639</td>\n",
       "      <td>0.0</td>\n",
       "      <td>2.538536</td>\n",
       "    </tr>\n",
       "    <tr>\n",
       "      <th>11587</th>\n",
       "      <td>3.0</td>\n",
       "      <td>1.474647</td>\n",
       "      <td>0.0</td>\n",
       "      <td>2.538536</td>\n",
       "    </tr>\n",
       "    <tr>\n",
       "      <th>11601</th>\n",
       "      <td>3.0</td>\n",
       "      <td>2.995840</td>\n",
       "      <td>0.0</td>\n",
       "      <td>2.538536</td>\n",
       "    </tr>\n",
       "    <tr>\n",
       "      <th>11660</th>\n",
       "      <td>6.0</td>\n",
       "      <td>7.603032</td>\n",
       "      <td>0.0</td>\n",
       "      <td>2.538536</td>\n",
       "    </tr>\n",
       "    <tr>\n",
       "      <th>11672</th>\n",
       "      <td>3.0</td>\n",
       "      <td>1.536271</td>\n",
       "      <td>0.0</td>\n",
       "      <td>2.538536</td>\n",
       "    </tr>\n",
       "    <tr>\n",
       "      <th>11715</th>\n",
       "      <td>39.0</td>\n",
       "      <td>28.175218</td>\n",
       "      <td>0.0</td>\n",
       "      <td>2.538536</td>\n",
       "    </tr>\n",
       "    <tr>\n",
       "      <th>11738</th>\n",
       "      <td>3.0</td>\n",
       "      <td>6.480414</td>\n",
       "      <td>0.0</td>\n",
       "      <td>2.538536</td>\n",
       "    </tr>\n",
       "    <tr>\n",
       "      <th>11788</th>\n",
       "      <td>11.0</td>\n",
       "      <td>5.916631</td>\n",
       "      <td>0.0</td>\n",
       "      <td>2.538536</td>\n",
       "    </tr>\n",
       "    <tr>\n",
       "      <th>11789</th>\n",
       "      <td>3.0</td>\n",
       "      <td>2.917927</td>\n",
       "      <td>0.0</td>\n",
       "      <td>2.538536</td>\n",
       "    </tr>\n",
       "    <tr>\n",
       "      <th>11872</th>\n",
       "      <td>3.0</td>\n",
       "      <td>37.835902</td>\n",
       "      <td>0.0</td>\n",
       "      <td>2.538536</td>\n",
       "    </tr>\n",
       "    <tr>\n",
       "      <th>11873</th>\n",
       "      <td>3.0</td>\n",
       "      <td>1.670675</td>\n",
       "      <td>0.0</td>\n",
       "      <td>2.538536</td>\n",
       "    </tr>\n",
       "    <tr>\n",
       "      <th>11923</th>\n",
       "      <td>28.0</td>\n",
       "      <td>17.939338</td>\n",
       "      <td>0.0</td>\n",
       "      <td>2.538536</td>\n",
       "    </tr>\n",
       "    <tr>\n",
       "      <th>11967</th>\n",
       "      <td>10.0</td>\n",
       "      <td>7.564385</td>\n",
       "      <td>0.0</td>\n",
       "      <td>2.538536</td>\n",
       "    </tr>\n",
       "    <tr>\n",
       "      <th>11983</th>\n",
       "      <td>8.0</td>\n",
       "      <td>11.305616</td>\n",
       "      <td>0.0</td>\n",
       "      <td>2.538536</td>\n",
       "    </tr>\n",
       "    <tr>\n",
       "      <th>12010</th>\n",
       "      <td>4.0</td>\n",
       "      <td>31.519781</td>\n",
       "      <td>0.0</td>\n",
       "      <td>2.538536</td>\n",
       "    </tr>\n",
       "    <tr>\n",
       "      <th>12019</th>\n",
       "      <td>3.0</td>\n",
       "      <td>6.161149</td>\n",
       "      <td>0.0</td>\n",
       "      <td>2.538536</td>\n",
       "    </tr>\n",
       "    <tr>\n",
       "      <th>12037</th>\n",
       "      <td>3.0</td>\n",
       "      <td>9.758652</td>\n",
       "      <td>0.0</td>\n",
       "      <td>2.538536</td>\n",
       "    </tr>\n",
       "    <tr>\n",
       "      <th>12051</th>\n",
       "      <td>15.0</td>\n",
       "      <td>2.271671</td>\n",
       "      <td>0.0</td>\n",
       "      <td>2.538536</td>\n",
       "    </tr>\n",
       "    <tr>\n",
       "      <th>12070</th>\n",
       "      <td>7.0</td>\n",
       "      <td>37.461651</td>\n",
       "      <td>0.0</td>\n",
       "      <td>2.538536</td>\n",
       "    </tr>\n",
       "    <tr>\n",
       "      <th>12155</th>\n",
       "      <td>9.0</td>\n",
       "      <td>1.906427</td>\n",
       "      <td>0.0</td>\n",
       "      <td>2.538536</td>\n",
       "    </tr>\n",
       "    <tr>\n",
       "      <th>12191</th>\n",
       "      <td>11.0</td>\n",
       "      <td>23.425194</td>\n",
       "      <td>0.0</td>\n",
       "      <td>2.538536</td>\n",
       "    </tr>\n",
       "    <tr>\n",
       "      <th>12247</th>\n",
       "      <td>10.0</td>\n",
       "      <td>14.571695</td>\n",
       "      <td>0.0</td>\n",
       "      <td>2.538536</td>\n",
       "    </tr>\n",
       "    <tr>\n",
       "      <th>12285</th>\n",
       "      <td>9.0</td>\n",
       "      <td>9.141240</td>\n",
       "      <td>0.0</td>\n",
       "      <td>2.538536</td>\n",
       "    </tr>\n",
       "    <tr>\n",
       "      <th>12290</th>\n",
       "      <td>3.0</td>\n",
       "      <td>3.706083</td>\n",
       "      <td>0.0</td>\n",
       "      <td>2.538536</td>\n",
       "    </tr>\n",
       "    <tr>\n",
       "      <th>12333</th>\n",
       "      <td>5.0</td>\n",
       "      <td>9.758652</td>\n",
       "      <td>0.0</td>\n",
       "      <td>2.538536</td>\n",
       "    </tr>\n",
       "    <tr>\n",
       "      <th>12388</th>\n",
       "      <td>3.0</td>\n",
       "      <td>2.017163</td>\n",
       "      <td>0.0</td>\n",
       "      <td>2.538536</td>\n",
       "    </tr>\n",
       "    <tr>\n",
       "      <th>12394</th>\n",
       "      <td>4.0</td>\n",
       "      <td>16.721657</td>\n",
       "      <td>0.0</td>\n",
       "      <td>2.538536</td>\n",
       "    </tr>\n",
       "    <tr>\n",
       "      <th>12396</th>\n",
       "      <td>5.0</td>\n",
       "      <td>8.171005</td>\n",
       "      <td>0.0</td>\n",
       "      <td>2.538536</td>\n",
       "    </tr>\n",
       "  </tbody>\n",
       "</table>\n",
       "<p>373 rows × 4 columns</p>\n",
       "</div>"
      ],
      "text/plain": [
       "       ground  prediction  prediction_0  prediction_mean\n",
       "6        10.0   14.733293           0.0         2.538536\n",
       "39        4.0    3.988005           0.0         2.538536\n",
       "90        4.0    8.171005           0.0         2.538536\n",
       "108      11.0   19.037900           0.0         2.538536\n",
       "113       5.0    5.076090           0.0         2.538536\n",
       "174       3.0    3.006268           0.0         2.538536\n",
       "208       4.0   24.838293           0.0         2.538536\n",
       "253       4.0    3.764142           0.0         2.538536\n",
       "310       4.0    3.989744           0.0         2.538536\n",
       "333       3.0    2.221758           0.0         2.538536\n",
       "380       6.0    6.310653           0.0         2.538536\n",
       "425      15.0    7.737472           0.0         2.538536\n",
       "439       4.0    3.254549           0.0         2.538536\n",
       "453       4.0    2.271328           0.0         2.538536\n",
       "571       5.0   13.676171           0.0         2.538536\n",
       "590       4.0    9.758652           0.0         2.538536\n",
       "630       7.0    8.960014           0.0         2.538536\n",
       "643       7.0    5.066699           0.0         2.538536\n",
       "663       3.0    3.786366           0.0         2.538536\n",
       "668       5.0    3.845585           0.0         2.538536\n",
       "669       3.0    3.259705           0.0         2.538536\n",
       "681       4.0    6.176684           0.0         2.538536\n",
       "682       3.0    8.948305           0.0         2.538536\n",
       "756      99.0   29.707684           0.0         2.538536\n",
       "820       9.0   29.192016           0.0         2.538536\n",
       "934       5.0   29.903111           0.0         2.538536\n",
       "944      25.0    8.171005           0.0         2.538536\n",
       "978       3.0    3.178148           0.0         2.538536\n",
       "1026      3.0    4.288912           0.0         2.538536\n",
       "1046      3.0    1.141507           0.0         2.538536\n",
       "...       ...         ...           ...              ...\n",
       "11577     7.0    7.576579           0.0         2.538536\n",
       "11578    10.0    9.009250           0.0         2.538536\n",
       "11580     7.0    2.061639           0.0         2.538536\n",
       "11587     3.0    1.474647           0.0         2.538536\n",
       "11601     3.0    2.995840           0.0         2.538536\n",
       "11660     6.0    7.603032           0.0         2.538536\n",
       "11672     3.0    1.536271           0.0         2.538536\n",
       "11715    39.0   28.175218           0.0         2.538536\n",
       "11738     3.0    6.480414           0.0         2.538536\n",
       "11788    11.0    5.916631           0.0         2.538536\n",
       "11789     3.0    2.917927           0.0         2.538536\n",
       "11872     3.0   37.835902           0.0         2.538536\n",
       "11873     3.0    1.670675           0.0         2.538536\n",
       "11923    28.0   17.939338           0.0         2.538536\n",
       "11967    10.0    7.564385           0.0         2.538536\n",
       "11983     8.0   11.305616           0.0         2.538536\n",
       "12010     4.0   31.519781           0.0         2.538536\n",
       "12019     3.0    6.161149           0.0         2.538536\n",
       "12037     3.0    9.758652           0.0         2.538536\n",
       "12051    15.0    2.271671           0.0         2.538536\n",
       "12070     7.0   37.461651           0.0         2.538536\n",
       "12155     9.0    1.906427           0.0         2.538536\n",
       "12191    11.0   23.425194           0.0         2.538536\n",
       "12247    10.0   14.571695           0.0         2.538536\n",
       "12285     9.0    9.141240           0.0         2.538536\n",
       "12290     3.0    3.706083           0.0         2.538536\n",
       "12333     5.0    9.758652           0.0         2.538536\n",
       "12388     3.0    2.017163           0.0         2.538536\n",
       "12394     4.0   16.721657           0.0         2.538536\n",
       "12396     5.0    8.171005           0.0         2.538536\n",
       "\n",
       "[373 rows x 4 columns]"
      ]
     },
     "execution_count": 65,
     "metadata": {},
     "output_type": "execute_result"
    }
   ],
   "source": [
    "pred_df_100"
   ]
  },
  {
   "cell_type": "markdown",
   "metadata": {},
   "source": [
    " Metrics to test the RMSE for 0.95 percentile data"
   ]
  },
  {
   "cell_type": "code",
   "execution_count": 73,
   "metadata": {},
   "outputs": [
    {
     "name": "stdout",
     "output_type": "stream",
     "text": [
      "quantile pred error :15.898976 \n",
      "baseline with zero error : 0.288405\n",
      "baseline with mean errror : 2.470839\n"
     ]
    }
   ],
   "source": [
    "from sklearn.metrics import mean_squared_error\n",
    "import math\n",
    "error_pred = math.sqrt(mean_squared_error(pred_df_95.ground,pred_df_95.prediction))\n",
    "error_pred_0 = math.sqrt(mean_squared_error(pred_df_95.ground,pred_df_95.prediction_0))\n",
    "error_pred_mean = math.sqrt(mean_squared_error(pred_df_95.ground,pred_df_95.prediction_mean))\n",
    "print(\"quantile pred error :%f \" %error_pred)\n",
    "print(\"baseline with zero error : %f\" %error_pred_0)\n",
    "print(\"baseline with mean errror : %f\"%error_pred_mean)"
   ]
  },
  {
   "cell_type": "code",
   "execution_count": 74,
   "metadata": {},
   "outputs": [
    {
     "name": "stdout",
     "output_type": "stream",
     "text": [
      "quantile pred error :164.602101 \n",
      "baseline with zero error : 463.803815\n",
      "baseline with mean errror : 463.370876\n"
     ]
    }
   ],
   "source": [
    "#testScore=math.sqrt(mean_squared_error(pred_df_100.ground,pred_df_100.prediction))\n",
    "error_pred = math.sqrt(mean_squared_error(pred_df_100.ground,pred_df_100.prediction))\n",
    "error_pred_0 = math.sqrt(mean_squared_error(pred_df_100.ground,pred_df_100.prediction_0))\n",
    "error_pred_mean = math.sqrt(mean_squared_error(pred_df_100.ground,pred_df_100.prediction_mean))\n",
    "print(\"quantile pred error :%f \" %error_pred)\n",
    "print(\"baseline with zero error : %f\" %error_pred_0)\n",
    "print(\"baseline with mean errror : %f\"%error_pred_mean)"
   ]
  },
  {
   "cell_type": "markdown",
   "metadata": {},
   "source": [
    "## Results and conclustion\n",
    "\n",
    "- the quantile model doesnot look bad if one looks at the RMSE scores of different predictions at 0.95 percentile cutoff\n",
    "- More exploration may be done on various features other than content features, or by creating more features from the features available like create a feature from tweeter post time and twitter signup time to understand the duration of the user on twitter\n",
    "-  More visualizaiton with graphs will help in better understanding, I have not done graph visulaization just to save my time as tables are giving enough information\n",
    "- Models other that quantile regression like spline regression can also be modelled toheck the accuracy. infact hyperparameter tuning can also give good results in quantile regerssion\n",
    "- codestyle can be improved for understanding"
   ]
  },
  {
   "cell_type": "markdown",
   "metadata": {},
   "source": [
    "# References\n",
    "https://twittercommunity.com/t/twitter-api-listed-count/32759\n",
    "http://scikit-learn.org/stable/auto_examples/ensemble/plot_gradient_boosting_quantile.html\n",
    "http://scikit-learn.org/stable/auto_examples/ensemble/plot_gradient_boosting_regression.html#sphx-glr-auto-examples-ensemble-plot-gradient-boosting-regression-py"
   ]
  },
  {
   "cell_type": "code",
   "execution_count": null,
   "metadata": {
    "collapsed": true
   },
   "outputs": [],
   "source": []
  }
 ],
 "metadata": {
  "kernelspec": {
   "display_name": "Python 3",
   "language": "python",
   "name": "python3"
  },
  "language_info": {
   "codemirror_mode": {
    "name": "ipython",
    "version": 3
   },
   "file_extension": ".py",
   "mimetype": "text/x-python",
   "name": "python",
   "nbconvert_exporter": "python",
   "pygments_lexer": "ipython3",
   "version": "3.6.3"
  }
 },
 "nbformat": 4,
 "nbformat_minor": 2
}
