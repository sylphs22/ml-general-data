{
 "cells": [
  {
   "cell_type": "markdown",
   "metadata": {},
   "source": [
    "## Objective\n",
    "\n",
    "1. The file data.csv contains some authors and text from their popular novels\n",
    "2. We need to prepare a classification model to predict the author name from given text.\n",
    "3. More than the results, we are interested in the Process.\n",
    "4. Be as creative as you can in feature generation.\n",
    "5. Again, we are not concerned about accuracy results, but more attention will be paid to what you can do with this data."
   ]
  },
  {
   "cell_type": "code",
   "execution_count": 1,
   "metadata": {},
   "outputs": [
    {
     "name": "stderr",
     "output_type": "stream",
     "text": [
      "/home/paperspace/.local/share/virtualenvs/author-att/lib/python3.6/site-packages/sklearn/cross_validation.py:41: DeprecationWarning: This module was deprecated in version 0.18 in favor of the model_selection module into which all the refactored classes and functions are moved. Also note that the interface of the new CV iterators are different from that of this module. This module will be removed in 0.20.\n",
      "  \"This module will be removed in 0.20.\", DeprecationWarning)\n",
      "/home/paperspace/.local/share/virtualenvs/author-att/lib/python3.6/site-packages/sklearn/grid_search.py:42: DeprecationWarning: This module was deprecated in version 0.18 in favor of the model_selection module into which all the refactored classes and functions are moved. This module will be removed in 0.20.\n",
      "  DeprecationWarning)\n"
     ]
    }
   ],
   "source": [
    "import pandas as pd\n",
    "import numpy as np\n",
    "import nltk\n",
    "import gensim\n",
    "import glob\n",
    "import re\n",
    "import string\n",
    "import os\n",
    "import matplotlib.pyplot as plt\n",
    "import warnings\n",
    "from collections import Counter\n",
    "from sklearn import model_selection\n",
    "from sklearn.cross_validation import cross_val_score\n",
    "from sklearn.feature_extraction.text import CountVectorizer\n",
    "from sklearn.feature_extraction.text import TfidfVectorizer\n",
    "from sklearn.ensemble import RandomForestClassifier\n",
    "from sklearn.model_selection import train_test_split\n",
    "from sklearn.metrics import classification_report\n",
    "from sklearn.grid_search import GridSearchCV\n",
    "from sklearn.preprocessing import MinMaxScaler\n",
    "\n",
    "warnings.filterwarnings('ignore')"
   ]
  },
  {
   "cell_type": "code",
   "execution_count": 2,
   "metadata": {},
   "outputs": [
    {
     "data": {
      "text/html": [
       "<div>\n",
       "<style scoped>\n",
       "    .dataframe tbody tr th:only-of-type {\n",
       "        vertical-align: middle;\n",
       "    }\n",
       "\n",
       "    .dataframe tbody tr th {\n",
       "        vertical-align: top;\n",
       "    }\n",
       "\n",
       "    .dataframe thead th {\n",
       "        text-align: right;\n",
       "    }\n",
       "</style>\n",
       "<table border=\"1\" class=\"dataframe\">\n",
       "  <thead>\n",
       "    <tr style=\"text-align: right;\">\n",
       "      <th></th>\n",
       "      <th>Unnamed: 0</th>\n",
       "      <th>id</th>\n",
       "      <th>text</th>\n",
       "      <th>author</th>\n",
       "    </tr>\n",
       "  </thead>\n",
       "  <tbody>\n",
       "    <tr>\n",
       "      <th>0</th>\n",
       "      <td>0</td>\n",
       "      <td>id26305</td>\n",
       "      <td>This process, however, afforded me no means of...</td>\n",
       "      <td>Dan Brown</td>\n",
       "    </tr>\n",
       "    <tr>\n",
       "      <th>1</th>\n",
       "      <td>1</td>\n",
       "      <td>id17569</td>\n",
       "      <td>It never once occurred to me that the fumbling...</td>\n",
       "      <td>Chetan Bhagat</td>\n",
       "    </tr>\n",
       "    <tr>\n",
       "      <th>2</th>\n",
       "      <td>2</td>\n",
       "      <td>id11008</td>\n",
       "      <td>In his left hand was a gold snuff box, from wh...</td>\n",
       "      <td>Dan Brown</td>\n",
       "    </tr>\n",
       "    <tr>\n",
       "      <th>3</th>\n",
       "      <td>3</td>\n",
       "      <td>id27763</td>\n",
       "      <td>How lovely is spring As we looked from Windsor...</td>\n",
       "      <td>Rowling</td>\n",
       "    </tr>\n",
       "    <tr>\n",
       "      <th>4</th>\n",
       "      <td>4</td>\n",
       "      <td>id12958</td>\n",
       "      <td>Finding nothing else, not even gold, the Super...</td>\n",
       "      <td>Chetan Bhagat</td>\n",
       "    </tr>\n",
       "  </tbody>\n",
       "</table>\n",
       "</div>"
      ],
      "text/plain": [
       "   Unnamed: 0       id                                               text  \\\n",
       "0           0  id26305  This process, however, afforded me no means of...   \n",
       "1           1  id17569  It never once occurred to me that the fumbling...   \n",
       "2           2  id11008  In his left hand was a gold snuff box, from wh...   \n",
       "3           3  id27763  How lovely is spring As we looked from Windsor...   \n",
       "4           4  id12958  Finding nothing else, not even gold, the Super...   \n",
       "\n",
       "          author  \n",
       "0      Dan Brown  \n",
       "1  Chetan Bhagat  \n",
       "2      Dan Brown  \n",
       "3        Rowling  \n",
       "4  Chetan Bhagat  "
      ]
     },
     "execution_count": 2,
     "metadata": {},
     "output_type": "execute_result"
    }
   ],
   "source": [
    "data = pd.read_csv('data.csv')\n",
    "data.head()"
   ]
  },
  {
   "cell_type": "code",
   "execution_count": 3,
   "metadata": {
    "collapsed": true
   },
   "outputs": [],
   "source": [
    "data.drop(['Unnamed: 0'], axis=1,inplace=True)\n",
    "data=data.drop_duplicates(data.columns)"
   ]
  },
  {
   "cell_type": "code",
   "execution_count": 4,
   "metadata": {},
   "outputs": [
    {
     "name": "stdout",
     "output_type": "stream",
     "text": [
      "<class 'pandas.core.frame.DataFrame'>\n",
      "Int64Index: 19579 entries, 0 to 19578\n",
      "Data columns (total 3 columns):\n",
      "id        19579 non-null object\n",
      "text      19579 non-null object\n",
      "author    19579 non-null object\n",
      "dtypes: object(3)\n",
      "memory usage: 611.8+ KB\n"
     ]
    }
   ],
   "source": [
    "data.info()"
   ]
  },
  {
   "cell_type": "code",
   "execution_count": 5,
   "metadata": {},
   "outputs": [
    {
     "name": "stdout",
     "output_type": "stream",
     "text": [
      "Dan Brown        7900\n",
      "Rowling          6044\n",
      "Chetan Bhagat    5635\n",
      "Name: author, dtype: int64\n"
     ]
    },
    {
     "data": {
      "image/png": "[encoded data removed]",
      "text/plain": [
       "<Figure size 432x288 with 1 Axes>"
      ]
     },
     "metadata": {},
     "output_type": "display_data"
    }
   ],
   "source": [
    "%matplotlib inline \n",
    "import matplotlib.pyplot as plt\n",
    "print(data['author'].value_counts())\n",
    "data['author'].value_counts().plot(kind='bar')\n",
    "plt.show()"
   ]
  },
  {
   "cell_type": "code",
   "execution_count": 6,
   "metadata": {},
   "outputs": [],
   "source": [
    "# separating text and author will be easier to use\n",
    "df = data['text']\n",
    "y = data['author']"
   ]
  },
  {
   "cell_type": "code",
   "execution_count": 7,
   "metadata": {
    "collapsed": true
   },
   "outputs": [],
   "source": [
    "# Train and test set stratified sampling to ensure all unique classe are present \n",
    "# in both training and test sets\n",
    "df_train, df_test, y_train, y_test = train_test_split(df, y, \n",
    "                                                  test_size=0.3, random_state=2018, stratify=y)"
   ]
  },
  {
   "cell_type": "code",
   "execution_count": 8,
   "metadata": {},
   "outputs": [
    {
     "data": {
      "text/plain": [
       "(5874,)"
      ]
     },
     "execution_count": 8,
     "metadata": {},
     "output_type": "execute_result"
    }
   ],
   "source": [
    "y_test.shape"
   ]
  },
  {
   "cell_type": "code",
   "execution_count": 9,
   "metadata": {},
   "outputs": [
    {
     "data": {
      "text/plain": [
       "14269    But now, at last, he had not only found an acc...\n",
       "15907    I found that the sparrow uttered none but hars...\n",
       "15032    Simultaneously there developed something like ...\n",
       "6448     When the time mentioned had expired, we had re...\n",
       "15757    For a moment there was a wild lurid light alon...\n",
       "Name: text, dtype: object"
      ]
     },
     "execution_count": 9,
     "metadata": {},
     "output_type": "execute_result"
    }
   ],
   "source": [
    "df_train.head()"
   ]
  },
  {
   "cell_type": "code",
   "execution_count": 10,
   "metadata": {},
   "outputs": [
    {
     "name": "stdout",
     "output_type": "stream",
     "text": [
      "[nltk_data] Downloading package stopwords to\n",
      "[nltk_data]     /home/paperspace/nltk_data...\n",
      "[nltk_data]   Package stopwords is already up-to-date!\n"
     ]
    }
   ],
   "source": [
    "nltk.download('stopwords')\n",
    "def remove_punctuations(text):\n",
    "    \"\"\"function to filter and clean text by removing punctuations\"\"\"\n",
    "    stop_words = set(nltk.corpus.stopwords.words('english'))\n",
    "    \n",
    "    tokens = nltk.word_tokenize(text.lower())\n",
    "    pattern = re.compile('[{}]'.format(re.escape(string.punctuation)))\n",
    "    filtered_tokens = filter(None, [pattern.sub('', token) for token in \n",
    "                                    tokens])\n",
    "    stop_filtered_sentence = [] \n",
    "    for w in filtered_tokens:\n",
    "        if w not in stop_words:\n",
    "            stop_filtered_sentence.append(w)\n",
    "        \n",
    "    filtered_text = ' '.join(stop_filtered_sentence)\n",
    "    return filtered_text\n",
    "\n"
   ]
  },
  {
   "cell_type": "markdown",
   "metadata": {},
   "source": [
    "### author style feature which consists of average letter length , lexical diversity, punctuations\n",
    "### NLP features like bigrams and tfidf feature\n",
    "### pos features and content and functional word features\n"
   ]
  },
  {
   "cell_type": "code",
   "execution_count": 11,
   "metadata": {
    "scrolled": true
   },
   "outputs": [
    {
     "name": "stdout",
     "output_type": "stream",
     "text": [
      "[nltk_data] Downloading package punkt to /home/paperspace/nltk_data...\n",
      "[nltk_data]   Package punkt is already up-to-date!\n"
     ]
    }
   ],
   "source": [
    "nltk.download('punkt')\n",
    "word_tokenizer = nltk.tokenize.RegexpTokenizer(r'\\w+')\n",
    "def author_style_feature(text):\n",
    "    \"\"\"\n",
    "    Compute feature vectors for word and punctuation features\n",
    "    \"\"\"\n",
    "    text = str(text)\n",
    "    tokens = nltk.word_tokenize(text.lower())\n",
    "    words = word_tokenizer.tokenize(text.lower())\n",
    "    \n",
    "    vocab = set(words)\n",
    "    \n",
    "    letters_per_words = np.array([len(x) for x in text.split()])\n",
    "\n",
    "    # average number of letters per word\n",
    "    fvs_lexical_mean = letters_per_words.mean()\n",
    "    # sentence length variation\n",
    "    fvs_lexical_std = letters_per_words.std()\n",
    "    # Lexical diversity\n",
    "    fvs_lexical_div = len(vocab) / float(len(words)+1)    \n",
    "\n",
    "    # Commas\n",
    "    fvs_punct_comma = tokens.count(',') \n",
    "    # Semicolons \n",
    "    fvs_punct_sc = tokens.count(';')\n",
    "    # Colons \n",
    "    fvs_punct_colons =tokens.count(':')        \n",
    "    \n",
    "    keys = ['fvs_lexical_mean','fvs_lexical_std','fvs_lexical_div'\n",
    "                          , 'fvs_punct_comma','fvs_punct_sc','fvs_punct_colon']\n",
    "    \n",
    "    values = [fvs_lexical_mean,fvs_lexical_std,fvs_lexical_div\n",
    "                          , fvs_punct_comma,fvs_punct_sc,fvs_punct_colons]\n",
    "           \n",
    "    return dict(zip( keys, values))\n",
    "   \n",
    "\n",
    "def bigram_feats(corpus,ngram_range=(1,2),min_df=10):\n",
    "    \"\"\"compute bigrams features\"\"\"\n",
    "    \n",
    "    bigram_vectorizer = CountVectorizer(ngram_range=ngram_range,min_df=min_df,\n",
    "                                 stop_words='english')     \n",
    "    bigrams = bigram_vectorizer.fit_transform(corpus) \n",
    "    return bigram_vectorizer,bigrams\n",
    "\n",
    "def tfidf_extractor(corpus, ngram_range=(1,1)):\n",
    "    vectorizer = TfidfVectorizer(min_df=10, norm='l2',smooth_idf=True,\n",
    "                                 use_idf=True,ngram_range=ngram_range,stop_words='english')\n",
    "    features = vectorizer.fit_transform(corpus)\n",
    "    return vectorizer, features\n",
    "\n",
    "    \n",
    "def token_to_pos(text):\n",
    "    \"\"\" pos tagging + content and functional word tagging\"\"\"\n",
    "    text = re.sub(r'[^\\w\\s]','',text)\n",
    "    tokens = nltk.word_tokenize(text)    \n",
    "    pos =  [p[1] for p in nltk.pos_tag(tokens)]\n",
    "    pos_list = ['NN', 'NNP', 'DT', 'IN', 'JJ', 'NNS','RB','VB','VBD']\n",
    "    content_list = ['NN','NNS','RB','VB','VBD']\n",
    "    function_list = ['NNP', 'DT', 'IN', 'JJ']\n",
    "    \n",
    "    pos_freq = dict((x,pos.count(x)) for x in pos_list)\n",
    "    content_freq = [pos.count(x) for x in content_list]\n",
    "    function_freq = [pos.count(x) for x in function_list]\n",
    "    update_freq = {'content_freq':sum(content_freq),\n",
    "                   'function_freq':sum(function_freq)}  \n",
    "    \n",
    "    dest = dict(list(pos_freq.items()) + list(update_freq.items()))\n",
    "    return dest    "
   ]
  },
  {
   "cell_type": "markdown",
   "metadata": {},
   "source": [
    "### W2vec embedddings of text"
   ]
  },
  {
   "cell_type": "code",
   "execution_count": 12,
   "metadata": {
    "collapsed": true
   },
   "outputs": [],
   "source": [
    "def initializing_model(text_df,size=10, \n",
    "                               window=10, min_count=2):\n",
    "    \"\"\"inputs series of pandas and train w2vec model\"\"\"\n",
    "    CORPUS = text_df.apply(lambda x : remove_punctuations(x))\n",
    "    CORPUS = CORPUS.tolist()\n",
    "    \n",
    "    TOKENIZED_CORPUS = [nltk.word_tokenize(sentence) for sentence in CORPUS]     \n",
    "    model = gensim.models.Word2Vec(TOKENIZED_CORPUS, size=size, \n",
    "                               window=window, min_count=min_count, sample=1e-3)\n",
    "    return TOKENIZED_CORPUS,model\n",
    "    \n",
    "def average_word_vectors(words, model, vocabulary, num_features):\n",
    "    \"\"\"average word vectors for a text document\"\"\"\n",
    "    feature_vector = np.zeros((num_features,),dtype=\"float64\")\n",
    "    nwords = 0\n",
    "    for word in words:\n",
    "        if word in vocabulary:\n",
    "            nwords = nwords + 1\n",
    "            feature_vector = np.add(feature_vector, model[word])\n",
    "    if nwords:\n",
    "        feature_vector = np.divide(feature_vector, nwords)\n",
    "    return feature_vector\n",
    "def averaged_word_vectorizer(tokenized_corpus, model, num_features):\n",
    "    \"\"\" corpus of documents average word vectors\"\"\"\n",
    "    vocabulary = set(model.wv.index2word)\n",
    "    features = [average_word_vectors(tokenized_sentence, model, \n",
    "                                     vocabulary,num_features) for tokenized_sentence \n",
    "                in tokenized_corpus]\n",
    "    return np.array(features),vocabulary"
   ]
  },
  {
   "cell_type": "markdown",
   "metadata": {},
   "source": [
    "### Training data preprocessng and features transformations"
   ]
  },
  {
   "cell_type": "code",
   "execution_count": 13,
   "metadata": {
    "collapsed": true
   },
   "outputs": [],
   "source": [
    "fvs_auth = df_train.apply(lambda x : author_style_feature(x))\n",
    "fvs_auth_df = pd.DataFrame.from_records(fvs_auth.tolist())\n",
    "pos = df_train.apply(lambda text:token_to_pos(text))\n",
    "pos_df = pd.DataFrame.from_records(pos.tolist())"
   ]
  },
  {
   "cell_type": "code",
   "execution_count": 14,
   "metadata": {
    "collapsed": true
   },
   "outputs": [],
   "source": [
    "bigram_vectorizer,bigrams = bigram_feats(df_train)\n",
    "bigram_df = pd.DataFrame(bigrams.todense(), columns=bigram_vectorizer.get_feature_names())\n",
    "vectorizer, tf_features = tfidf_extractor(df_train)\n",
    "tf_features_df = pd.DataFrame(tf_features.todense(), columns=vectorizer.get_feature_names())"
   ]
  },
  {
   "cell_type": "code",
   "execution_count": 15,
   "metadata": {},
   "outputs": [],
   "source": [
    "tokenized_corpus,model = initializing_model(df_train)\n",
    "w2v_features,vocabulary = averaged_word_vectorizer(tokenized_corpus, model, num_features=10)\n",
    "w2v_features_df = pd.DataFrame(w2v_features)"
   ]
  },
  {
   "cell_type": "markdown",
   "metadata": {},
   "source": [
    "### create two concated features \n",
    "- tfidf , pos, bigrams,functional and content features as one type of feature \n",
    "- w2v embedddings , pos, bigrams,functional and content features as one type of feature"
   ]
  },
  {
   "cell_type": "code",
   "execution_count": 16,
   "metadata": {
    "collapsed": true
   },
   "outputs": [],
   "source": [
    "feat_with_tfidf= pd.concat([fvs_auth_df, pos_df,bigram_df,tf_features_df], axis=1)\n",
    "feat_with_w2v= pd.concat([fvs_auth_df, pos_df,bigram_df,w2v_features_df], axis=1)"
   ]
  },
  {
   "cell_type": "markdown",
   "metadata": {},
   "source": [
    "### Run the training on both sets of features\n",
    "     using randomforest ensures that imbalance classes are handled and can be used for feature importance"
   ]
  },
  {
   "cell_type": "code",
   "execution_count": 23,
   "metadata": {},
   "outputs": [],
   "source": [
    "def training_pred(features,classes):\n",
    "    \n",
    "    features = features.fillna(0)\n",
    "    scaler = MinMaxScaler()\n",
    "    X_train = scaler.fit_transform(features)\n",
    "    X_train = features\n",
    "    clf = RandomForestClassifier(class_weight=\"balanced\",\n",
    "                                 random_state=42,n_jobs=-1, oob_score = True)\n",
    "    param_grid = {\n",
    "                 'n_estimators': [50, 75, 100, 150],\n",
    "                 'max_depth': [5, 10, 15, 20]\n",
    "                 \n",
    "             }\n",
    "    grid_clf = GridSearchCV(clf, param_grid, cv=10,verbose=2,n_jobs=-1)\n",
    "    grid_clf.fit(X_train, classes)\n",
    "    clf_best = RandomForestClassifier(class_weight=\"balanced\",\n",
    "                                      random_state=42,max_depth= grid_clf.best_params_['max_depth'],\n",
    "                                      n_estimators=grid_clf.best_params_['n_estimators'],\n",
    "                                     )\n",
    "    clf_best.fit(X_train, classes)\n",
    "    y_pred = clf_best.predict(X_train)\n",
    "    target_names = ['Chetan Bhagat', 'Dan Brown','Rowling']\n",
    "    print(pd.crosstab(classes, y_pred, rownames=['Actual'], colnames=['Predicted']))\n",
    "    print(classification_report(classes, y_pred, target_names=target_names))\n",
    "    \n",
    "    return clf_best, scaler\n",
    "    "
   ]
  },
  {
   "cell_type": "markdown",
   "metadata": {},
   "source": [
    "### Understand Features used in classification "
   ]
  },
  {
   "cell_type": "code",
   "execution_count": 18,
   "metadata": {
    "collapsed": true
   },
   "outputs": [],
   "source": [
    "def sort_list(list1, list2):\n",
    "    \"\"\"helper function for feature importance\"\"\"\n",
    " \n",
    "    zipped_pairs = zip(list2, list1)\n",
    " \n",
    "    z = [x for _, x in sorted(zipped_pairs)]\n",
    "     \n",
    "    return z"
   ]
  },
  {
   "cell_type": "code",
   "execution_count": 19,
   "metadata": {
    "collapsed": true
   },
   "outputs": [],
   "source": [
    "def plot_feature_importance(features,clf):\n",
    "    feature = features.columns\n",
    "    feature_importance = clf.feature_importances_ \n",
    "    feature_importance = 10000 * (feature_importance / feature_importance.max())\n",
    "    sorted_idx = np.argsort(feature_importance)[0:20]\n",
    "    pos = np.arange(sorted_idx.shape[0]) + .5\n",
    "\n",
    "    plt.subplot(1, 2, 2)\n",
    "    plt.barh(pos, feature_importance[sorted_idx], align='center')\n",
    "    plt.yticks(pos, sort_list(feature,sorted_idx))\n",
    "    plt.xlabel('Relative Importance')\n",
    "    plt.title('Variable Importance')\n",
    "    plt.show()\n",
    "    "
   ]
  },
  {
   "cell_type": "code",
   "execution_count": 24,
   "metadata": {},
   "outputs": [
    {
     "name": "stdout",
     "output_type": "stream",
     "text": [
      "Fitting 10 folds for each of 16 candidates, totalling 160 fits\n",
      "[CV] max_depth=5, n_estimators=50 ....................................\n",
      "[CV] max_depth=5, n_estimators=50 ....................................\n",
      "[CV] max_depth=5, n_estimators=50 ....................................\n",
      "[CV] max_depth=5, n_estimators=50 ....................................\n",
      "[CV] max_depth=5, n_estimators=50 ....................................\n",
      "[CV] max_depth=5, n_estimators=50 ....................................\n",
      "[CV] max_depth=5, n_estimators=50 ....................................\n",
      "[CV] max_depth=5, n_estimators=50 ....................................\n",
      "[CV] ........................... max_depth=5, n_estimators=50 -  11.1s\n",
      "[CV] max_depth=5, n_estimators=50 ....................................\n",
      "[CV] ........................... max_depth=5, n_estimators=50 -  11.4s\n",
      "[CV] max_depth=5, n_estimators=50 ....................................\n",
      "[CV] ........................... max_depth=5, n_estimators=50 -  12.5s\n",
      "[CV] max_depth=5, n_estimators=75 ....................................\n",
      "[CV] ........................... max_depth=5, n_estimators=50 -  13.2s\n",
      "[CV] max_depth=5, n_estimators=75 ....................................\n",
      "[CV] ........................... max_depth=5, n_estimators=50 -  13.3s\n",
      "[CV] max_depth=5, n_estimators=75 ....................................\n",
      "[CV] ........................... max_depth=5, n_estimators=50 -  12.8s\n",
      "[CV] max_depth=5, n_estimators=75 ....................................\n",
      "[CV] ........................... max_depth=5, n_estimators=50 -  13.8s\n",
      "[CV] max_depth=5, n_estimators=75 ....................................\n",
      "[CV] ........................... max_depth=5, n_estimators=50 -  13.5s\n",
      "[CV] max_depth=5, n_estimators=75 ....................................\n",
      "[CV] ........................... max_depth=5, n_estimators=50 -  14.3s\n",
      "[CV] max_depth=5, n_estimators=75 ....................................\n",
      "[CV] ........................... max_depth=5, n_estimators=50 -  14.6s\n",
      "[CV] max_depth=5, n_estimators=75 ....................................\n",
      "[CV] ........................... max_depth=5, n_estimators=75 -  19.2s\n",
      "[CV] max_depth=5, n_estimators=75 ....................................\n",
      "[CV] ........................... max_depth=5, n_estimators=75 -  18.1s\n",
      "[CV] max_depth=5, n_estimators=75 ....................................\n",
      "[CV] ........................... max_depth=5, n_estimators=75 -  19.1s\n",
      "[CV] max_depth=5, n_estimators=100 ...................................\n",
      "[CV] ........................... max_depth=5, n_estimators=75 -  19.0s\n",
      "[CV] max_depth=5, n_estimators=100 ...................................\n",
      "[CV] ........................... max_depth=5, n_estimators=75 -  19.3s\n",
      "[CV] max_depth=5, n_estimators=100 ...................................\n",
      "[CV] ........................... max_depth=5, n_estimators=75 -  19.5s\n",
      "[CV] max_depth=5, n_estimators=100 ...................................\n",
      "[CV] ........................... max_depth=5, n_estimators=75 -  20.2s\n",
      "[CV] max_depth=5, n_estimators=100 ...................................\n",
      "[CV] ........................... max_depth=5, n_estimators=75 -  19.0s\n",
      "[CV] max_depth=5, n_estimators=100 ...................................\n",
      "[CV] ........................... max_depth=5, n_estimators=75 -  19.8s\n",
      "[CV] max_depth=5, n_estimators=100 ...................................\n",
      "[CV] ........................... max_depth=5, n_estimators=75 -  20.8s\n",
      "[CV] max_depth=5, n_estimators=100 ...................................\n",
      "[CV] .......................... max_depth=5, n_estimators=100 -  24.8s\n",
      "[CV] max_depth=5, n_estimators=100 ...................................\n",
      "[CV] .......................... max_depth=5, n_estimators=100 -  27.1s\n",
      "[CV] .......................... max_depth=5, n_estimators=100 -  23.9s\n",
      "[CV] max_depth=5, n_estimators=100 ...................................\n",
      "[CV] max_depth=5, n_estimators=150 ...................................\n",
      "[CV] .......................... max_depth=5, n_estimators=100 -  26.3s\n",
      "[CV] max_depth=5, n_estimators=150 ...................................\n",
      "[CV] .......................... max_depth=5, n_estimators=100 -  25.5s\n",
      "[CV] max_depth=5, n_estimators=150 ...................................\n"
     ]
    },
    {
     "name": "stderr",
     "output_type": "stream",
     "text": [
      "[Parallel(n_jobs=-1)]: Done  25 tasks      | elapsed:  1.2min\n"
     ]
    },
    {
     "name": "stdout",
     "output_type": "stream",
     "text": [
      "[CV] .......................... max_depth=5, n_estimators=100 -  27.8s\n",
      "[CV] max_depth=5, n_estimators=150 ...................................\n",
      "[CV] .......................... max_depth=5, n_estimators=100 -  25.7s\n",
      "[CV] max_depth=5, n_estimators=150 ...................................\n",
      "[CV] .......................... max_depth=5, n_estimators=100 -  25.4s\n",
      "[CV] max_depth=5, n_estimators=150 ...................................\n",
      "[CV] .......................... max_depth=5, n_estimators=100 -  26.2s\n",
      "[CV] max_depth=5, n_estimators=150 ...................................\n",
      "[CV] .......................... max_depth=5, n_estimators=100 -  26.5s\n",
      "[CV] max_depth=5, n_estimators=150 ...................................\n",
      "[CV] .......................... max_depth=5, n_estimators=150 -  36.8s\n",
      "[CV] max_depth=5, n_estimators=150 ...................................\n",
      "[CV] .......................... max_depth=5, n_estimators=150 -  35.4s\n",
      "[CV] max_depth=5, n_estimators=150 ...................................\n",
      "[CV] .......................... max_depth=5, n_estimators=150 -  35.3s\n",
      "[CV] max_depth=10, n_estimators=50 ...................................\n",
      "[CV] .......................... max_depth=5, n_estimators=150 -  35.7s\n",
      "[CV] max_depth=10, n_estimators=50 ...................................\n",
      "[CV] .......................... max_depth=5, n_estimators=150 -  37.6s\n",
      "[CV] max_depth=10, n_estimators=50 ...................................\n",
      "[CV] .......................... max_depth=5, n_estimators=150 -  36.0s\n",
      "[CV] max_depth=10, n_estimators=50 ...................................\n",
      "[CV] .......................... max_depth=10, n_estimators=50 -  13.8s\n",
      "[CV] max_depth=10, n_estimators=50 ...................................\n",
      "[CV] .......................... max_depth=10, n_estimators=50 -  13.1s\n",
      "[CV] max_depth=10, n_estimators=50 ...................................\n",
      "[CV] .......................... max_depth=5, n_estimators=150 -  36.6s\n",
      "[CV] max_depth=10, n_estimators=50 ...................................\n",
      "[CV] .......................... max_depth=5, n_estimators=150 -  36.4s\n",
      "[CV] max_depth=10, n_estimators=50 ...................................\n",
      "[CV] .......................... max_depth=10, n_estimators=50 -  15.4s\n",
      "[CV] max_depth=10, n_estimators=50 ...................................\n",
      "[CV] .......................... max_depth=10, n_estimators=50 -  14.0s\n",
      "[CV] max_depth=10, n_estimators=50 ...................................\n",
      "[CV] .......................... max_depth=10, n_estimators=50 -  13.6s\n",
      "[CV] max_depth=10, n_estimators=75 ...................................\n",
      "[CV] .......................... max_depth=10, n_estimators=50 -  15.6s\n",
      "[CV] max_depth=10, n_estimators=75 ...................................\n",
      "[CV] .......................... max_depth=5, n_estimators=150 -  36.5s\n",
      "[CV] .......................... max_depth=10, n_estimators=50 -  13.7s\n",
      "[CV] max_depth=10, n_estimators=75 ...................................\n",
      "[CV] .......................... max_depth=10, n_estimators=50 -  13.5s\n",
      "[CV] max_depth=10, n_estimators=75 ...................................\n",
      "[CV] max_depth=10, n_estimators=75 ...................................\n",
      "[CV] .......................... max_depth=5, n_estimators=150 -  39.9s\n",
      "[CV] max_depth=10, n_estimators=75 ...................................\n",
      "[CV] .......................... max_depth=10, n_estimators=50 -  15.1s\n",
      "[CV] max_depth=10, n_estimators=75 ...................................\n",
      "[CV] .......................... max_depth=10, n_estimators=50 -  15.1s\n",
      "[CV] max_depth=10, n_estimators=75 ...................................\n",
      "[CV] .......................... max_depth=10, n_estimators=75 -  20.5s\n",
      "[CV] max_depth=10, n_estimators=75 ...................................\n",
      "[CV] .......................... max_depth=10, n_estimators=75 -  20.6s\n",
      "[CV] max_depth=10, n_estimators=75 ...................................\n",
      "[CV] .......................... max_depth=10, n_estimators=75 -  24.3s\n",
      "[CV] max_depth=10, n_estimators=100 ..................................\n",
      "[CV] .......................... max_depth=10, n_estimators=75 -  20.9s\n",
      "[CV] max_depth=10, n_estimators=100 ..................................\n",
      "[CV] .......................... max_depth=10, n_estimators=75 -  26.1s\n",
      "[CV] .......................... max_depth=10, n_estimators=75 -  21.7s\n",
      "[CV] max_depth=10, n_estimators=100 ..................................\n",
      "[CV] .......................... max_depth=10, n_estimators=75 -  21.1s\n",
      "[CV] .......................... max_depth=10, n_estimators=75 -  20.4s\n",
      "[CV] max_depth=10, n_estimators=100 ..................................\n",
      "[CV] max_depth=10, n_estimators=100 ..................................\n",
      "[CV] max_depth=10, n_estimators=100 ..................................\n",
      "[CV] .......................... max_depth=10, n_estimators=75 -  20.6s\n",
      "[CV] max_depth=10, n_estimators=100 ..................................\n",
      "[CV] .......................... max_depth=10, n_estimators=75 -  22.3s\n",
      "[CV] max_depth=10, n_estimators=100 ..................................\n",
      "[CV] ......................... max_depth=10, n_estimators=100 -  25.7s\n",
      "[CV] max_depth=10, n_estimators=100 ..................................\n",
      "[CV] ......................... max_depth=10, n_estimators=100 -  27.4s\n",
      "[CV] max_depth=10, n_estimators=100 ..................................\n",
      "[CV] ......................... max_depth=10, n_estimators=100 -  27.7s\n",
      "[CV] max_depth=10, n_estimators=150 ..................................\n",
      "[CV] ......................... max_depth=10, n_estimators=100 -  27.1s\n",
      "[CV] max_depth=10, n_estimators=150 ..................................\n",
      "[CV] ......................... max_depth=10, n_estimators=100 -  25.3s\n",
      "[CV] max_depth=10, n_estimators=150 ..................................\n",
      "[CV] ......................... max_depth=10, n_estimators=100 -  29.8s\n",
      "[CV] max_depth=10, n_estimators=150 ..................................\n",
      "[CV] ......................... max_depth=10, n_estimators=100 -  27.6s\n",
      "[CV] max_depth=10, n_estimators=150 ..................................\n",
      "[CV] ......................... max_depth=10, n_estimators=100 -  27.9s\n",
      "[CV] max_depth=10, n_estimators=150 ..................................\n",
      "[CV] ......................... max_depth=10, n_estimators=100 -  30.2s\n",
      "[CV] max_depth=10, n_estimators=150 ..................................\n",
      "[CV] ......................... max_depth=10, n_estimators=100 -  31.8s\n",
      "[CV] max_depth=10, n_estimators=150 ..................................\n",
      "[CV] ......................... max_depth=10, n_estimators=150 -  39.4s\n",
      "[CV] ......................... max_depth=10, n_estimators=150 -  37.7s\n",
      "[CV] max_depth=10, n_estimators=150 ..................................\n",
      "[CV] max_depth=10, n_estimators=150 ..................................\n",
      "[CV] ......................... max_depth=10, n_estimators=150 -  38.6s\n",
      "[CV] max_depth=15, n_estimators=50 ...................................\n",
      "[CV] ......................... max_depth=10, n_estimators=150 -  39.5s\n",
      "[CV] max_depth=15, n_estimators=50 ...................................\n",
      "[CV] ......................... max_depth=10, n_estimators=150 -  39.3s\n",
      "[CV] max_depth=15, n_estimators=50 ...................................\n",
      "[CV] ......................... max_depth=10, n_estimators=150 -  39.4s\n",
      "[CV] max_depth=15, n_estimators=50 ...................................\n",
      "[CV] .......................... max_depth=15, n_estimators=50 -  14.9s\n",
      "[CV] max_depth=15, n_estimators=50 ...................................\n",
      "[CV] .......................... max_depth=15, n_estimators=50 -  13.5s\n",
      "[CV] max_depth=15, n_estimators=50 ...................................\n",
      "[CV] .......................... max_depth=15, n_estimators=50 -  13.3s\n",
      "[CV] max_depth=15, n_estimators=50 ...................................\n",
      "[CV] ......................... max_depth=10, n_estimators=150 -  39.9s\n",
      "[CV] max_depth=15, n_estimators=50 ...................................\n",
      "[CV] ......................... max_depth=10, n_estimators=150 -  40.2s\n",
      "[CV] max_depth=15, n_estimators=50 ...................................\n",
      "[CV] .......................... max_depth=15, n_estimators=50 -  14.3s\n",
      "[CV] max_depth=15, n_estimators=50 ...................................\n",
      "[CV] .......................... max_depth=15, n_estimators=50 -  15.1s\n",
      "[CV] max_depth=15, n_estimators=75 ...................................\n"
     ]
    },
    {
     "name": "stdout",
     "output_type": "stream",
     "text": [
      "[CV] .......................... max_depth=15, n_estimators=50 -  15.9s\n",
      "[CV] max_depth=15, n_estimators=75 ...................................\n",
      "[CV] .......................... max_depth=15, n_estimators=50 -  15.4s\n",
      "[CV] max_depth=15, n_estimators=75 ...................................\n",
      "[CV] ......................... max_depth=10, n_estimators=150 -  42.0s\n",
      "[CV] max_depth=15, n_estimators=75 ...................................\n",
      "[CV] .......................... max_depth=15, n_estimators=50 -  16.2s\n",
      "[CV] max_depth=15, n_estimators=75 ...................................\n",
      "[CV] ......................... max_depth=10, n_estimators=150 -  42.5s\n",
      "[CV] max_depth=15, n_estimators=75 ...................................\n",
      "[CV] .......................... max_depth=15, n_estimators=50 -  16.0s\n",
      "[CV] max_depth=15, n_estimators=75 ...................................\n",
      "[CV] .......................... max_depth=15, n_estimators=50 -  16.7s\n",
      "[CV] max_depth=15, n_estimators=75 ...................................\n",
      "[CV] .......................... max_depth=15, n_estimators=75 -  23.2s\n",
      "[CV] max_depth=15, n_estimators=75 ...................................\n",
      "[CV] .......................... max_depth=15, n_estimators=75 -  21.9s\n",
      "[CV] max_depth=15, n_estimators=75 ...................................\n",
      "[CV] .......................... max_depth=15, n_estimators=75 -  22.1s\n",
      "[CV] max_depth=15, n_estimators=100 ..................................\n",
      "[CV] .......................... max_depth=15, n_estimators=75 -  22.6s\n",
      "[CV] max_depth=15, n_estimators=100 ..................................\n",
      "[CV] .......................... max_depth=15, n_estimators=75 -  22.3s\n",
      "[CV] max_depth=15, n_estimators=100 ..................................\n",
      "[CV] .......................... max_depth=15, n_estimators=75 -  23.2s\n",
      "[CV] max_depth=15, n_estimators=100 ..................................\n",
      "[CV] .......................... max_depth=15, n_estimators=75 -  23.1s\n",
      "[CV] max_depth=15, n_estimators=100 ..................................\n",
      "[CV] .......................... max_depth=15, n_estimators=75 -  22.7s\n",
      "[CV] max_depth=15, n_estimators=100 ..................................\n",
      "[CV] .......................... max_depth=15, n_estimators=75 -  23.2s\n",
      "[CV] max_depth=15, n_estimators=100 ..................................\n",
      "[CV] .......................... max_depth=15, n_estimators=75 -  24.3s\n",
      "[CV] max_depth=15, n_estimators=100 ..................................\n",
      "[CV] ......................... max_depth=15, n_estimators=100 -  30.4s\n",
      "[CV] max_depth=15, n_estimators=100 ..................................\n",
      "[CV] ......................... max_depth=15, n_estimators=100 -  29.2s\n",
      "[CV] max_depth=15, n_estimators=100 ..................................\n",
      "[CV] ......................... max_depth=15, n_estimators=100 -  30.8s\n",
      "[CV] max_depth=15, n_estimators=150 ..................................\n",
      "[CV] ......................... max_depth=15, n_estimators=100 -  29.2s\n",
      "[CV] max_depth=15, n_estimators=150 ..................................\n",
      "[CV] ......................... max_depth=15, n_estimators=100 -  29.5s\n",
      "[CV] max_depth=15, n_estimators=150 ..................................\n",
      "[CV] ......................... max_depth=15, n_estimators=100 -  31.0s\n",
      "[CV] max_depth=15, n_estimators=150 ..................................\n",
      "[CV] ......................... max_depth=15, n_estimators=100 -  31.3s\n",
      "[CV] max_depth=15, n_estimators=150 ..................................\n",
      "[CV] ......................... max_depth=15, n_estimators=100 -  29.7s\n",
      "[CV] max_depth=15, n_estimators=150 ..................................\n",
      "[CV] ......................... max_depth=15, n_estimators=100 -  32.0s\n",
      "[CV] max_depth=15, n_estimators=150 ..................................\n",
      "[CV] ......................... max_depth=15, n_estimators=100 -  32.9s\n",
      "[CV] max_depth=15, n_estimators=150 ..................................\n",
      "[CV] ......................... max_depth=15, n_estimators=150 -  44.1s\n",
      "[CV] max_depth=15, n_estimators=150 ..................................\n",
      "[CV] ......................... max_depth=15, n_estimators=150 -  44.0s\n",
      "[CV] max_depth=15, n_estimators=150 ..................................\n",
      "[CV] ......................... max_depth=15, n_estimators=150 -  45.8s\n",
      "[CV] max_depth=20, n_estimators=50 ...................................\n",
      "[CV] ......................... max_depth=15, n_estimators=150 -  44.7s\n",
      "[CV] max_depth=20, n_estimators=50 ...................................\n",
      "[CV] ......................... max_depth=15, n_estimators=150 -  44.3s\n",
      "[CV] max_depth=20, n_estimators=50 ...................................\n",
      "[CV] ......................... max_depth=15, n_estimators=150 -  45.0s\n",
      "[CV] max_depth=20, n_estimators=50 ...................................\n",
      "[CV] .......................... max_depth=20, n_estimators=50 -  15.2s\n",
      "[CV] max_depth=20, n_estimators=50 ...................................\n",
      "[CV] .......................... max_depth=20, n_estimators=50 -  16.2s\n",
      "[CV] max_depth=20, n_estimators=50 ...................................\n",
      "[CV] ......................... max_depth=15, n_estimators=150 -  41.6s\n",
      "[CV] max_depth=20, n_estimators=50 ...................................\n",
      "[CV] ......................... max_depth=15, n_estimators=150 -  42.3s\n",
      "[CV] max_depth=20, n_estimators=50 ...................................\n",
      "[CV] .......................... max_depth=20, n_estimators=50 -  15.9s\n",
      "[CV] max_depth=20, n_estimators=50 ...................................\n",
      "[CV] .......................... max_depth=20, n_estimators=50 -  14.8s\n",
      "[CV] max_depth=20, n_estimators=50 ...................................\n",
      "[CV] .......................... max_depth=20, n_estimators=50 -  16.0s\n",
      "[CV] max_depth=20, n_estimators=75 ...................................\n",
      "[CV] .......................... max_depth=20, n_estimators=50 -  15.7s\n",
      "[CV] max_depth=20, n_estimators=75 ...................................\n",
      "[CV] .......................... max_depth=20, n_estimators=50 -  16.6s\n",
      "[CV] max_depth=20, n_estimators=75 ...................................\n",
      "[CV] .......................... max_depth=20, n_estimators=50 -  17.1s\n",
      "[CV] max_depth=20, n_estimators=75 ...................................\n",
      "[CV] ......................... max_depth=15, n_estimators=150 -  45.7s\n",
      "[CV] .......................... max_depth=20, n_estimators=50 -  15.6s\n",
      "[CV] max_depth=20, n_estimators=75 ...................................\n",
      "[CV] ......................... max_depth=15, n_estimators=150 -  45.8s\n",
      "[CV] max_depth=20, n_estimators=75 ...................................\n",
      "[CV] .......................... max_depth=20, n_estimators=50 -  17.1s\n",
      "[CV] max_depth=20, n_estimators=75 ...................................\n",
      "[CV] max_depth=20, n_estimators=75 ...................................\n",
      "[CV] .......................... max_depth=20, n_estimators=75 -  23.8s\n",
      "[CV] max_depth=20, n_estimators=75 ...................................\n",
      "[CV] .......................... max_depth=20, n_estimators=75 -  22.6s\n",
      "[CV] max_depth=20, n_estimators=75 ...................................\n",
      "[CV] .......................... max_depth=20, n_estimators=75 -  24.0s\n",
      "[CV] max_depth=20, n_estimators=100 ..................................\n",
      "[CV] .......................... max_depth=20, n_estimators=75 -  24.1s\n",
      "[CV] max_depth=20, n_estimators=100 ..................................\n",
      "[CV] .......................... max_depth=20, n_estimators=75 -  24.3s\n",
      "[CV] max_depth=20, n_estimators=100 ..................................\n",
      "[CV] .......................... max_depth=20, n_estimators=75 -  24.6s\n",
      "[CV] max_depth=20, n_estimators=100 ..................................\n",
      "[CV] .......................... max_depth=20, n_estimators=75 -  26.0s\n",
      "[CV] max_depth=20, n_estimators=100 ..................................\n",
      "[CV] .......................... max_depth=20, n_estimators=75 -  25.4s\n",
      "[CV] max_depth=20, n_estimators=100 ..................................\n",
      "[CV] .......................... max_depth=20, n_estimators=75 -  26.1s\n",
      "[CV] max_depth=20, n_estimators=100 ..................................\n",
      "[CV] .......................... max_depth=20, n_estimators=75 -  27.0s\n",
      "[CV] max_depth=20, n_estimators=100 ..................................\n",
      "[CV] ......................... max_depth=20, n_estimators=100 -  32.8s\n",
      "[CV] max_depth=20, n_estimators=100 ..................................\n"
     ]
    },
    {
     "name": "stdout",
     "output_type": "stream",
     "text": [
      "[CV] ......................... max_depth=20, n_estimators=100 -  30.8s\n",
      "[CV] max_depth=20, n_estimators=100 ..................................\n",
      "[CV] ......................... max_depth=20, n_estimators=100 -  34.5s\n",
      "[CV] max_depth=20, n_estimators=150 ..................................\n",
      "[CV] ......................... max_depth=20, n_estimators=100 -  32.5s\n",
      "[CV] max_depth=20, n_estimators=150 ..................................\n",
      "[CV] ......................... max_depth=20, n_estimators=100 -  33.4s\n",
      "[CV] max_depth=20, n_estimators=150 ..................................\n",
      "[CV] ......................... max_depth=20, n_estimators=100 -  35.1s\n",
      "[CV] max_depth=20, n_estimators=150 ..................................\n",
      "[CV] ......................... max_depth=20, n_estimators=100 -  35.3s\n",
      "[CV] max_depth=20, n_estimators=150 ..................................\n",
      "[CV] ......................... max_depth=20, n_estimators=100 -  37.7s\n",
      "[CV] max_depth=20, n_estimators=150 ..................................\n",
      "[CV] ......................... max_depth=20, n_estimators=100 -  36.5s\n",
      "[CV] max_depth=20, n_estimators=150 ..................................\n",
      "[CV] ......................... max_depth=20, n_estimators=100 -  35.0s\n",
      "[CV] max_depth=20, n_estimators=150 ..................................\n",
      "[CV] ......................... max_depth=20, n_estimators=150 -  47.4s\n",
      "[CV] max_depth=20, n_estimators=150 ..................................\n",
      "[CV] ......................... max_depth=20, n_estimators=150 -  46.2s\n",
      "[CV] max_depth=20, n_estimators=150 ..................................\n",
      "[CV] ......................... max_depth=20, n_estimators=150 -  46.2s\n",
      "[CV] ......................... max_depth=20, n_estimators=150 -  44.4s\n",
      "[CV] ......................... max_depth=20, n_estimators=150 -  43.5s\n",
      "[CV] ......................... max_depth=20, n_estimators=150 -  42.5s\n",
      "[CV] ......................... max_depth=20, n_estimators=150 -  39.7s\n",
      "[CV] ......................... max_depth=20, n_estimators=150 -  39.0s\n",
      "[CV] ......................... max_depth=20, n_estimators=150 -  35.0s\n",
      "[CV] ......................... max_depth=20, n_estimators=150 -  33.9s\n"
     ]
    },
    {
     "name": "stderr",
     "output_type": "stream",
     "text": [
      "[Parallel(n_jobs=-1)]: Done 160 out of 160 | elapsed:  9.5min finished\n"
     ]
    },
    {
     "name": "stdout",
     "output_type": "stream",
     "text": [
      "Predicted      Chetan Bhagat  Dan Brown  Rowling\n",
      "Actual                                          \n",
      "Chetan Bhagat           3071        795       78\n",
      "Dan Brown                708       4578      244\n",
      "Rowling                  523       1075     2633\n",
      "               precision    recall  f1-score   support\n",
      "\n",
      "Chetan Bhagat       0.71      0.78      0.74      3944\n",
      "    Dan Brown       0.71      0.83      0.76      5530\n",
      "      Rowling       0.89      0.62      0.73      4231\n",
      "\n",
      "  avg / total       0.77      0.75      0.75     13705\n",
      "\n"
     ]
    }
   ],
   "source": [
    "clf_best_tfidf, scaler_tfidf = training_pred(feat_with_tfidf,y_train)"
   ]
  },
  {
   "cell_type": "code",
   "execution_count": 25,
   "metadata": {
    "scrolled": true
   },
   "outputs": [
    {
     "data": {
      "image/png": "[encoded data removed]",
      "text/plain": [
       "<Figure size 432x288 with 1 Axes>"
      ]
     },
     "metadata": {},
     "output_type": "display_data"
    }
   ],
   "source": [
    "plot_feature_importance(feat_with_tfidf,clf_best_tfidf)"
   ]
  },
  {
   "cell_type": "code",
   "execution_count": 26,
   "metadata": {},
   "outputs": [
    {
     "name": "stdout",
     "output_type": "stream",
     "text": [
      "Fitting 10 folds for each of 16 candidates, totalling 160 fits\n",
      "[CV] max_depth=5, n_estimators=50 ....................................\n",
      "[CV] max_depth=5, n_estimators=50 ....................................\n",
      "[CV] max_depth=5, n_estimators=50 ....................................\n",
      "[CV] max_depth=5, n_estimators=50 ....................................\n",
      "[CV] max_depth=5, n_estimators=50 ....................................\n",
      "[CV] max_depth=5, n_estimators=50 ....................................\n",
      "[CV] max_depth=5, n_estimators=50 ....................................\n",
      "[CV] max_depth=5, n_estimators=50 ....................................\n",
      "[CV] ........................... max_depth=5, n_estimators=50 -   5.4s\n",
      "[CV] max_depth=5, n_estimators=50 ....................................\n",
      "[CV] ........................... max_depth=5, n_estimators=50 -   6.2s\n",
      "[CV] max_depth=5, n_estimators=50 ....................................\n",
      "[CV] ........................... max_depth=5, n_estimators=50 -   6.9s\n",
      "[CV] max_depth=5, n_estimators=75 ....................................\n",
      "[CV] ........................... max_depth=5, n_estimators=50 -   7.4s\n",
      "[CV] max_depth=5, n_estimators=75 ....................................\n",
      "[CV] ........................... max_depth=5, n_estimators=50 -   8.2s\n",
      "[CV] max_depth=5, n_estimators=75 ....................................\n",
      "[CV] ........................... max_depth=5, n_estimators=50 -   7.0s\n",
      "[CV] ........................... max_depth=5, n_estimators=50 -   8.2s\n",
      "[CV] ........................... max_depth=5, n_estimators=50 -   6.6s\n",
      "[CV] max_depth=5, n_estimators=75 ....................................\n",
      "[CV] max_depth=5, n_estimators=75 ....................................\n",
      "[CV] max_depth=5, n_estimators=75 ....................................\n",
      "[CV] ........................... max_depth=5, n_estimators=50 -   8.2s\n",
      "[CV] max_depth=5, n_estimators=75 ....................................\n",
      "[CV] ........................... max_depth=5, n_estimators=50 -   7.9s\n",
      "[CV] max_depth=5, n_estimators=75 ....................................\n",
      "[CV] ........................... max_depth=5, n_estimators=75 -   8.5s\n",
      "[CV] max_depth=5, n_estimators=75 ....................................\n",
      "[CV] ........................... max_depth=5, n_estimators=75 -  10.4s\n",
      "[CV] max_depth=5, n_estimators=75 ....................................\n",
      "[CV] ........................... max_depth=5, n_estimators=75 -   9.0s\n",
      "[CV] max_depth=5, n_estimators=100 ...................................\n",
      "[CV] ........................... max_depth=5, n_estimators=75 -   8.6s\n",
      "[CV] max_depth=5, n_estimators=100 ...................................\n",
      "[CV] ........................... max_depth=5, n_estimators=75 -   9.5s\n",
      "[CV] max_depth=5, n_estimators=100 ...................................\n",
      "[CV] ........................... max_depth=5, n_estimators=75 -   9.5s\n",
      "[CV] max_depth=5, n_estimators=100 ...................................\n",
      "[CV] ........................... max_depth=5, n_estimators=75 -   9.5s\n",
      "[CV] max_depth=5, n_estimators=100 ...................................\n",
      "[CV] ........................... max_depth=5, n_estimators=75 -   9.7s\n",
      "[CV] max_depth=5, n_estimators=100 ...................................\n",
      "[CV] ........................... max_depth=5, n_estimators=75 -   9.7s\n",
      "[CV] max_depth=5, n_estimators=100 ...................................\n",
      "[CV] ........................... max_depth=5, n_estimators=75 -  10.1s\n",
      "[CV] max_depth=5, n_estimators=100 ...................................\n",
      "[CV] .......................... max_depth=5, n_estimators=100 -  13.7s\n",
      "[CV] max_depth=5, n_estimators=100 ...................................\n",
      "[CV] .......................... max_depth=5, n_estimators=100 -  13.0s\n",
      "[CV] max_depth=5, n_estimators=100 ...................................\n",
      "[CV] .......................... max_depth=5, n_estimators=100 -  13.4s\n",
      "[CV] max_depth=5, n_estimators=150 ...................................\n",
      "[CV] .......................... max_depth=5, n_estimators=100 -  11.9s\n",
      "[CV] max_depth=5, n_estimators=150 ...................................\n",
      "[CV] .......................... max_depth=5, n_estimators=100 -  13.6s\n"
     ]
    },
    {
     "name": "stderr",
     "output_type": "stream",
     "text": [
      "[Parallel(n_jobs=-1)]: Done  25 tasks      | elapsed:   37.3s\n"
     ]
    },
    {
     "name": "stdout",
     "output_type": "stream",
     "text": [
      "[CV] .......................... max_depth=5, n_estimators=100 -  12.3s\n",
      "[CV] max_depth=5, n_estimators=150 ...................................\n",
      "[CV] max_depth=5, n_estimators=150 ...................................\n",
      "[CV] .......................... max_depth=5, n_estimators=100 -  13.2s\n",
      "[CV] max_depth=5, n_estimators=150 ...................................\n",
      "[CV] .......................... max_depth=5, n_estimators=100 -  13.4s\n",
      "[CV] max_depth=5, n_estimators=150 ...................................\n",
      "[CV] .......................... max_depth=5, n_estimators=100 -  13.0s\n",
      "[CV] max_depth=5, n_estimators=150 ...................................\n",
      "[CV] .......................... max_depth=5, n_estimators=100 -  13.8s\n",
      "[CV] max_depth=5, n_estimators=150 ...................................\n",
      "[CV] .......................... max_depth=5, n_estimators=150 -  18.2s\n",
      "[CV] max_depth=5, n_estimators=150 ...................................\n",
      "[CV] .......................... max_depth=5, n_estimators=150 -  18.3s\n",
      "[CV] max_depth=5, n_estimators=150 ...................................\n",
      "[CV] .......................... max_depth=5, n_estimators=150 -  22.8s\n",
      "[CV] max_depth=10, n_estimators=50 ...................................\n",
      "[CV] .......................... max_depth=5, n_estimators=150 -  18.5s\n",
      "[CV] max_depth=10, n_estimators=50 ...................................\n",
      "[CV] .......................... max_depth=5, n_estimators=150 -  20.2s\n",
      "[CV] .......................... max_depth=5, n_estimators=150 -  23.7s\n",
      "[CV] max_depth=10, n_estimators=50 ...................................\n",
      "[CV] max_depth=10, n_estimators=50 ...................................\n",
      "[CV] .......................... max_depth=10, n_estimators=50 -   7.8s\n",
      "[CV] max_depth=10, n_estimators=50 ...................................\n",
      "[CV] .......................... max_depth=5, n_estimators=150 -  19.0s\n",
      "[CV] max_depth=10, n_estimators=50 ...................................\n",
      "[CV] .......................... max_depth=5, n_estimators=150 -  19.6s\n",
      "[CV] max_depth=10, n_estimators=50 ...................................\n",
      "[CV] .......................... max_depth=10, n_estimators=50 -   6.8s\n",
      "[CV] max_depth=10, n_estimators=50 ...................................\n",
      "[CV] .......................... max_depth=10, n_estimators=50 -   7.4s\n",
      "[CV] max_depth=10, n_estimators=50 ...................................\n",
      "[CV] .......................... max_depth=10, n_estimators=50 -   7.5s\n",
      "[CV] max_depth=10, n_estimators=50 ...................................\n",
      "[CV] .......................... max_depth=10, n_estimators=50 -   7.2s\n",
      "[CV] max_depth=10, n_estimators=75 ...................................\n",
      "[CV] .......................... max_depth=10, n_estimators=50 -   7.1s\n",
      "[CV] max_depth=10, n_estimators=75 ...................................\n",
      "[CV] .......................... max_depth=5, n_estimators=150 -  19.9s\n",
      "[CV] .......................... max_depth=5, n_estimators=150 -  19.1s\n",
      "[CV] max_depth=10, n_estimators=75 ...................................\n",
      "[CV] .......................... max_depth=10, n_estimators=50 -   7.2s\n",
      "[CV] .......................... max_depth=10, n_estimators=50 -   7.1s\n",
      "[CV] max_depth=10, n_estimators=75 ...................................\n",
      "[CV] .......................... max_depth=10, n_estimators=50 -   6.9s\n",
      "[CV] max_depth=10, n_estimators=75 ...................................\n",
      "[CV] .......................... max_depth=10, n_estimators=50 -   6.6s\n",
      "[CV] max_depth=10, n_estimators=75 ...................................\n",
      "[CV] max_depth=10, n_estimators=75 ...................................\n",
      "[CV] max_depth=10, n_estimators=75 ...................................\n",
      "[CV] .......................... max_depth=10, n_estimators=75 -   9.6s\n",
      "[CV] max_depth=10, n_estimators=75 ...................................\n",
      "[CV] .......................... max_depth=10, n_estimators=75 -  11.0s\n",
      "[CV] max_depth=10, n_estimators=75 ...................................\n",
      "[CV] .......................... max_depth=10, n_estimators=75 -   9.5s\n",
      "[CV] max_depth=10, n_estimators=100 ..................................\n",
      "[CV] .......................... max_depth=10, n_estimators=75 -  10.1s\n",
      "[CV] max_depth=10, n_estimators=100 ..................................\n",
      "[CV] .......................... max_depth=10, n_estimators=75 -  10.0s\n",
      "[CV] max_depth=10, n_estimators=100 ..................................\n",
      "[CV] .......................... max_depth=10, n_estimators=75 -  12.4s\n",
      "[CV] max_depth=10, n_estimators=100 ..................................\n",
      "[CV] .......................... max_depth=10, n_estimators=75 -  11.5s\n",
      "[CV] max_depth=10, n_estimators=100 ..................................\n",
      "[CV] .......................... max_depth=10, n_estimators=75 -  12.7s\n",
      "[CV] max_depth=10, n_estimators=100 ..................................\n",
      "[CV] .......................... max_depth=10, n_estimators=75 -  11.3s\n",
      "[CV] max_depth=10, n_estimators=100 ..................................\n",
      "[CV] .......................... max_depth=10, n_estimators=75 -  10.8s\n",
      "[CV] max_depth=10, n_estimators=100 ..................................\n",
      "[CV] ......................... max_depth=10, n_estimators=100 -  14.3s\n",
      "[CV] max_depth=10, n_estimators=100 ..................................\n",
      "[CV] ......................... max_depth=10, n_estimators=100 -  13.4s\n",
      "[CV] ......................... max_depth=10, n_estimators=100 -  15.4s\n",
      "[CV] max_depth=10, n_estimators=100 ..................................\n",
      "[CV] max_depth=10, n_estimators=150 ..................................\n",
      "[CV] ......................... max_depth=10, n_estimators=100 -  13.1s\n",
      "[CV] max_depth=10, n_estimators=150 ..................................\n",
      "[CV] ......................... max_depth=10, n_estimators=100 -  13.8s\n",
      "[CV] max_depth=10, n_estimators=150 ..................................\n",
      "[CV] ......................... max_depth=10, n_estimators=100 -  15.6s\n",
      "[CV] max_depth=10, n_estimators=150 ..................................\n",
      "[CV] ......................... max_depth=10, n_estimators=100 -  13.5s\n",
      "[CV] max_depth=10, n_estimators=150 ..................................\n",
      "[CV] ......................... max_depth=10, n_estimators=100 -  15.7s\n",
      "[CV] max_depth=10, n_estimators=150 ..................................\n",
      "[CV] ......................... max_depth=10, n_estimators=100 -  14.7s\n",
      "[CV] max_depth=10, n_estimators=150 ..................................\n",
      "[CV] ......................... max_depth=10, n_estimators=100 -  16.5s\n",
      "[CV] max_depth=10, n_estimators=150 ..................................\n",
      "[CV] ......................... max_depth=10, n_estimators=150 -  19.9s\n",
      "[CV] max_depth=10, n_estimators=150 ..................................\n",
      "[CV] ......................... max_depth=10, n_estimators=150 -  19.6s\n",
      "[CV] max_depth=10, n_estimators=150 ..................................\n",
      "[CV] ......................... max_depth=10, n_estimators=150 -  23.6s\n",
      "[CV] max_depth=15, n_estimators=50 ...................................\n",
      "[CV] ......................... max_depth=10, n_estimators=150 -  18.8s\n",
      "[CV] max_depth=15, n_estimators=50 ...................................\n",
      "[CV] ......................... max_depth=10, n_estimators=150 -  21.4s\n",
      "[CV] max_depth=15, n_estimators=50 ...................................\n",
      "[CV] ......................... max_depth=10, n_estimators=150 -  20.2s\n",
      "[CV] max_depth=15, n_estimators=50 ...................................\n",
      "[CV] .......................... max_depth=15, n_estimators=50 -   8.1s\n",
      "[CV] max_depth=15, n_estimators=50 ...................................\n",
      "[CV] .......................... max_depth=15, n_estimators=50 -   7.2s\n",
      "[CV] ......................... max_depth=10, n_estimators=150 -  19.7s\n",
      "[CV] max_depth=15, n_estimators=50 ...................................\n",
      "[CV] max_depth=15, n_estimators=50 ...................................\n",
      "[CV] .......................... max_depth=15, n_estimators=50 -   8.4s\n",
      "[CV] max_depth=15, n_estimators=50 ...................................\n",
      "[CV] ......................... max_depth=10, n_estimators=150 -  20.9s\n",
      "[CV] max_depth=15, n_estimators=50 ...................................\n",
      "[CV] .......................... max_depth=15, n_estimators=50 -   7.6s\n",
      "[CV] max_depth=15, n_estimators=50 ...................................\n",
      "[CV] .......................... max_depth=15, n_estimators=50 -   7.8s\n"
     ]
    },
    {
     "name": "stdout",
     "output_type": "stream",
     "text": [
      "[CV] max_depth=15, n_estimators=75 ...................................\n",
      "[CV] .......................... max_depth=15, n_estimators=50 -   7.4s\n",
      "[CV] max_depth=15, n_estimators=75 ...................................\n",
      "[CV] .......................... max_depth=15, n_estimators=50 -   8.6s\n",
      "[CV] max_depth=15, n_estimators=75 ...................................\n",
      "[CV] ......................... max_depth=10, n_estimators=150 -  21.6s\n",
      "[CV] max_depth=15, n_estimators=75 ...................................\n",
      "[CV] ......................... max_depth=10, n_estimators=150 -  21.2s\n",
      "[CV] .......................... max_depth=15, n_estimators=50 -   8.1s\n",
      "[CV] max_depth=15, n_estimators=75 ...................................\n",
      "[CV] max_depth=15, n_estimators=75 ...................................\n",
      "[CV] .......................... max_depth=15, n_estimators=50 -   8.7s\n",
      "[CV] max_depth=15, n_estimators=75 ...................................\n",
      "[CV] .......................... max_depth=15, n_estimators=50 -   9.9s\n",
      "[CV] max_depth=15, n_estimators=75 ...................................\n",
      "[CV] .......................... max_depth=15, n_estimators=75 -  13.0s\n",
      "[CV] max_depth=15, n_estimators=75 ...................................\n",
      "[CV] .......................... max_depth=15, n_estimators=75 -  12.6s\n",
      "[CV] .......................... max_depth=15, n_estimators=75 -  10.8s\n",
      "[CV] max_depth=15, n_estimators=75 ...................................\n",
      "[CV] max_depth=15, n_estimators=100 ..................................\n",
      "[CV] .......................... max_depth=15, n_estimators=75 -  12.0s\n",
      "[CV] max_depth=15, n_estimators=100 ..................................\n",
      "[CV] .......................... max_depth=15, n_estimators=75 -  12.8s\n",
      "[CV] max_depth=15, n_estimators=100 ..................................\n",
      "[CV] .......................... max_depth=15, n_estimators=75 -  12.9s\n",
      "[CV] max_depth=15, n_estimators=100 ..................................\n",
      "[CV] .......................... max_depth=15, n_estimators=75 -  12.0s\n",
      "[CV] max_depth=15, n_estimators=100 ..................................\n",
      "[CV] .......................... max_depth=15, n_estimators=75 -  15.1s\n",
      "[CV] max_depth=15, n_estimators=100 ..................................\n",
      "[CV] .......................... max_depth=15, n_estimators=75 -  13.8s\n",
      "[CV] max_depth=15, n_estimators=100 ..................................\n",
      "[CV] .......................... max_depth=15, n_estimators=75 -  13.4s\n",
      "[CV] max_depth=15, n_estimators=100 ..................................\n",
      "[CV] ......................... max_depth=15, n_estimators=100 -  17.8s\n",
      "[CV] max_depth=15, n_estimators=100 ..................................\n",
      "[CV] ......................... max_depth=15, n_estimators=100 -  15.1s\n",
      "[CV] ......................... max_depth=15, n_estimators=100 -  14.1s\n",
      "[CV] max_depth=15, n_estimators=100 ..................................\n",
      "[CV] ......................... max_depth=15, n_estimators=100 -  18.0s\n",
      "[CV] max_depth=15, n_estimators=150 ..................................\n",
      "[CV] max_depth=15, n_estimators=150 ..................................\n",
      "[CV] ......................... max_depth=15, n_estimators=100 -  16.5s\n",
      "[CV] max_depth=15, n_estimators=150 ..................................\n",
      "[CV] ......................... max_depth=15, n_estimators=100 -  18.7s\n",
      "[CV] max_depth=15, n_estimators=150 ..................................\n",
      "[CV] ......................... max_depth=15, n_estimators=100 -  17.6s\n",
      "[CV] max_depth=15, n_estimators=150 ..................................\n",
      "[CV] ......................... max_depth=15, n_estimators=100 -  17.0s\n",
      "[CV] max_depth=15, n_estimators=150 ..................................\n",
      "[CV] ......................... max_depth=15, n_estimators=100 -  17.0s\n",
      "[CV] max_depth=15, n_estimators=150 ..................................\n",
      "[CV] ......................... max_depth=15, n_estimators=100 -  17.3s\n",
      "[CV] max_depth=15, n_estimators=150 ..................................\n",
      "[CV] ......................... max_depth=15, n_estimators=150 -  24.8s\n",
      "[CV] max_depth=15, n_estimators=150 ..................................\n",
      "[CV] ......................... max_depth=15, n_estimators=150 -  24.5s\n",
      "[CV] max_depth=15, n_estimators=150 ..................................\n",
      "[CV] ......................... max_depth=15, n_estimators=150 -  27.2s\n",
      "[CV] max_depth=20, n_estimators=50 ...................................\n",
      "[CV] ......................... max_depth=15, n_estimators=150 -  22.0s\n",
      "[CV] max_depth=20, n_estimators=50 ...................................\n",
      "[CV] ......................... max_depth=15, n_estimators=150 -  23.9s\n",
      "[CV] max_depth=20, n_estimators=50 ...................................\n",
      "[CV] ......................... max_depth=15, n_estimators=150 -  23.4s\n",
      "[CV] max_depth=20, n_estimators=50 ...................................\n",
      "[CV] .......................... max_depth=20, n_estimators=50 -   9.3s\n",
      "[CV] max_depth=20, n_estimators=50 ...................................\n",
      "[CV] .......................... max_depth=20, n_estimators=50 -   7.9s\n",
      "[CV] max_depth=20, n_estimators=50 ...................................\n",
      "[CV] ......................... max_depth=15, n_estimators=150 -  23.1s\n",
      "[CV] max_depth=20, n_estimators=50 ...................................\n",
      "[CV] ......................... max_depth=15, n_estimators=150 -  25.6s\n",
      "[CV] max_depth=20, n_estimators=50 ...................................\n",
      "[CV] .......................... max_depth=20, n_estimators=50 -   9.3s\n",
      "[CV] max_depth=20, n_estimators=50 ...................................\n",
      "[CV] .......................... max_depth=20, n_estimators=50 -   9.6s\n",
      "[CV] max_depth=20, n_estimators=50 ...................................\n",
      "[CV] .......................... max_depth=20, n_estimators=50 -   9.8s\n",
      "[CV] max_depth=20, n_estimators=75 ...................................\n",
      "[CV] .......................... max_depth=20, n_estimators=50 -   8.8s\n",
      "[CV] max_depth=20, n_estimators=75 ...................................\n",
      "[CV] .......................... max_depth=20, n_estimators=50 -  10.4s\n",
      "[CV] max_depth=20, n_estimators=75 ...................................\n",
      "[CV] .......................... max_depth=20, n_estimators=50 -   9.4s\n",
      "[CV] max_depth=20, n_estimators=75 ...................................\n",
      "[CV] ......................... max_depth=15, n_estimators=150 -  26.4s\n",
      "[CV] max_depth=20, n_estimators=75 ...................................\n",
      "[CV] .......................... max_depth=20, n_estimators=50 -   9.5s\n",
      "[CV] max_depth=20, n_estimators=75 ...................................\n",
      "[CV] ......................... max_depth=15, n_estimators=150 -  27.0s\n",
      "[CV] .......................... max_depth=20, n_estimators=50 -  11.2s\n",
      "[CV] max_depth=20, n_estimators=75 ...................................\n",
      "[CV] max_depth=20, n_estimators=75 ...................................\n",
      "[CV] .......................... max_depth=20, n_estimators=75 -  13.1s\n",
      "[CV] max_depth=20, n_estimators=75 ...................................\n",
      "[CV] .......................... max_depth=20, n_estimators=75 -  14.6s\n",
      "[CV] max_depth=20, n_estimators=75 ...................................\n",
      "[CV] .......................... max_depth=20, n_estimators=75 -  12.7s\n",
      "[CV] max_depth=20, n_estimators=100 ..................................\n",
      "[CV] .......................... max_depth=20, n_estimators=75 -  13.6s\n",
      "[CV] .......................... max_depth=20, n_estimators=75 -  12.4s\n",
      "[CV] max_depth=20, n_estimators=100 ..................................\n",
      "[CV] max_depth=20, n_estimators=100 ..................................\n",
      "[CV] .......................... max_depth=20, n_estimators=75 -  14.2s\n",
      "[CV] max_depth=20, n_estimators=100 ..................................\n",
      "[CV] .......................... max_depth=20, n_estimators=75 -  14.1s\n",
      "[CV] max_depth=20, n_estimators=100 ..................................\n",
      "[CV] .......................... max_depth=20, n_estimators=75 -  16.1s\n",
      "[CV] max_depth=20, n_estimators=100 ..................................\n",
      "[CV] .......................... max_depth=20, n_estimators=75 -  14.8s\n",
      "[CV] max_depth=20, n_estimators=100 ..................................\n",
      "[CV] .......................... max_depth=20, n_estimators=75 -  16.1s\n",
      "[CV] max_depth=20, n_estimators=100 ..................................\n",
      "[CV] ......................... max_depth=20, n_estimators=100 -  20.2s\n"
     ]
    },
    {
     "name": "stdout",
     "output_type": "stream",
     "text": [
      "[CV] ......................... max_depth=20, n_estimators=100 -  18.8s\n",
      "[CV] max_depth=20, n_estimators=100 ..................................\n",
      "[CV] max_depth=20, n_estimators=100 ..................................\n",
      "[CV] ......................... max_depth=20, n_estimators=100 -  19.2s\n",
      "[CV] ......................... max_depth=20, n_estimators=100 -  17.9s\n",
      "[CV] ......................... max_depth=20, n_estimators=100 -  16.6s\n",
      "[CV] max_depth=20, n_estimators=150 ..................................\n",
      "[CV] max_depth=20, n_estimators=150 ..................................\n",
      "[CV] max_depth=20, n_estimators=150 ..................................\n",
      "[CV] ......................... max_depth=20, n_estimators=100 -  17.1s\n",
      "[CV] max_depth=20, n_estimators=150 ..................................\n",
      "[CV] ......................... max_depth=20, n_estimators=100 -  20.4s\n",
      "[CV] max_depth=20, n_estimators=150 ..................................\n",
      "[CV] ......................... max_depth=20, n_estimators=100 -  19.2s\n",
      "[CV] max_depth=20, n_estimators=150 ..................................\n",
      "[CV] ......................... max_depth=20, n_estimators=100 -  21.4s\n",
      "[CV] max_depth=20, n_estimators=150 ..................................\n",
      "[CV] ......................... max_depth=20, n_estimators=100 -  20.7s\n",
      "[CV] max_depth=20, n_estimators=150 ..................................\n",
      "[CV] ......................... max_depth=20, n_estimators=150 -  26.6s\n",
      "[CV] max_depth=20, n_estimators=150 ..................................\n",
      "[CV] ......................... max_depth=20, n_estimators=150 -  26.0s\n",
      "[CV] max_depth=20, n_estimators=150 ..................................\n",
      "[CV] ......................... max_depth=20, n_estimators=150 -  34.0s\n",
      "[CV] ......................... max_depth=20, n_estimators=150 -  24.2s\n",
      "[CV] ......................... max_depth=20, n_estimators=150 -  31.0s\n",
      "[CV] ......................... max_depth=20, n_estimators=150 -  25.0s\n",
      "[CV] ......................... max_depth=20, n_estimators=150 -  21.4s\n",
      "[CV] ......................... max_depth=20, n_estimators=150 -  21.1s\n",
      "[CV] ......................... max_depth=20, n_estimators=150 -  18.2s\n",
      "[CV] ......................... max_depth=20, n_estimators=150 -  17.7s\n"
     ]
    },
    {
     "name": "stderr",
     "output_type": "stream",
     "text": [
      "[Parallel(n_jobs=-1)]: Done 160 out of 160 | elapsed:  5.2min finished\n"
     ]
    },
    {
     "name": "stdout",
     "output_type": "stream",
     "text": [
      "Predicted      Chetan Bhagat  Dan Brown  Rowling\n",
      "Actual                                          \n",
      "Chetan Bhagat           3258        596       90\n",
      "Dan Brown                741       4563      226\n",
      "Rowling                  467        817     2947\n",
      "               precision    recall  f1-score   support\n",
      "\n",
      "Chetan Bhagat       0.73      0.83      0.77      3944\n",
      "    Dan Brown       0.76      0.83      0.79      5530\n",
      "      Rowling       0.90      0.70      0.79      4231\n",
      "\n",
      "  avg / total       0.80      0.79      0.79     13705\n",
      "\n"
     ]
    }
   ],
   "source": [
    "clf_best_w2v, scaler_w2v = training_pred(feat_with_w2v,y_train)"
   ]
  },
  {
   "cell_type": "code",
   "execution_count": 27,
   "metadata": {},
   "outputs": [
    {
     "data": {
      "image/png": "[encoded data removed]",
      "text/plain": [
       "<Figure size 432x288 with 1 Axes>"
      ]
     },
     "metadata": {},
     "output_type": "display_data"
    }
   ],
   "source": [
    "plot_feature_importance(feat_with_w2v,clf_best_w2v)"
   ]
  },
  {
   "cell_type": "markdown",
   "metadata": {
    "collapsed": true
   },
   "source": [
    "## Data preperation testing"
   ]
  },
  {
   "cell_type": "code",
   "execution_count": 28,
   "metadata": {},
   "outputs": [
    {
     "data": {
      "text/plain": [
       "(5874,)"
      ]
     },
     "execution_count": 28,
     "metadata": {},
     "output_type": "execute_result"
    }
   ],
   "source": [
    "df_test.shape"
   ]
  },
  {
   "cell_type": "markdown",
   "metadata": {},
   "source": [
    "#### Author style feature"
   ]
  },
  {
   "cell_type": "code",
   "execution_count": 29,
   "metadata": {
    "collapsed": true
   },
   "outputs": [],
   "source": [
    "fvs_auth_test = df_test.apply(lambda x : author_style_feature(x))\n",
    "fvs_auth_test_df = pd.DataFrame.from_records(fvs_auth_test.tolist())\n",
    "pos_test = df_test.apply(lambda text:token_to_pos(text))\n",
    "pos_test_df = pd.DataFrame.from_records(pos_test.tolist())"
   ]
  },
  {
   "cell_type": "markdown",
   "metadata": {},
   "source": [
    "#### bigram and tfidf features usign trained vectorizers"
   ]
  },
  {
   "cell_type": "code",
   "execution_count": 30,
   "metadata": {
    "collapsed": true
   },
   "outputs": [],
   "source": [
    "bigrams = bigram_vectorizer.transform(df_test)\n",
    "bigram_test_df = pd.DataFrame(bigrams.todense(), columns=bigram_vectorizer.get_feature_names())\n",
    "tf_features = vectorizer.transform(df_test)\n",
    "tf_features_test_df = pd.DataFrame(tf_features.todense(), columns=vectorizer.get_feature_names())"
   ]
  },
  {
   "cell_type": "markdown",
   "metadata": {},
   "source": [
    "#### w2v embeddings using trained model"
   ]
  },
  {
   "cell_type": "code",
   "execution_count": 31,
   "metadata": {},
   "outputs": [],
   "source": [
    "test_corpus = df_test.apply(lambda x : remove_punctuations(x))\n",
    "CORPUS = test_corpus.tolist()    \n",
    "tokenized_corpus = [nltk.word_tokenize(sentence) for sentence in CORPUS] \n",
    "w2v_features,vocabulary = averaged_word_vectorizer(tokenized_corpus, model, num_features=10)\n",
    "w2v_features_test_df = pd.DataFrame(w2v_features)"
   ]
  },
  {
   "cell_type": "code",
   "execution_count": 32,
   "metadata": {
    "collapsed": true
   },
   "outputs": [],
   "source": [
    "feat_with_tfidf_test= pd.concat([fvs_auth_test_df, pos_test_df,bigram_test_df,tf_features_test_df], axis=1)\n",
    "feat_with_w2v_test= pd.concat([fvs_auth_test_df, pos_test_df,bigram_test_df,w2v_features_test_df], axis=1)"
   ]
  },
  {
   "cell_type": "code",
   "execution_count": 33,
   "metadata": {},
   "outputs": [
    {
     "data": {
      "text/plain": [
       "(5874, 6816)"
      ]
     },
     "execution_count": 33,
     "metadata": {},
     "output_type": "execute_result"
    }
   ],
   "source": [
    "feat_with_tfidf_test.shape"
   ]
  },
  {
   "cell_type": "code",
   "execution_count": 35,
   "metadata": {
    "collapsed": true
   },
   "outputs": [],
   "source": [
    "def test_pred(features,y_test,scaler,clf):\n",
    "    \n",
    "    features = features.fillna(0)\n",
    "    X_test =  scaler.transform(features)\n",
    "    X_test = features\n",
    "    y_pred = clf.predict(X_test)\n",
    "    target_names = ['Chetan Bhagat', 'Dan Brown','Rowling']\n",
    "    print(pd.crosstab(y_test, y_pred, rownames=['Actual'], colnames=['Predicted']))\n",
    "    print(classification_report(y_test, y_pred, target_names=target_names))    "
   ]
  },
  {
   "cell_type": "code",
   "execution_count": 36,
   "metadata": {},
   "outputs": [
    {
     "name": "stdout",
     "output_type": "stream",
     "text": [
      "Predicted      Chetan Bhagat  Dan Brown  Rowling\n",
      "Actual                                          \n",
      "Chetan Bhagat           1209        397       85\n",
      "Dan Brown                446       1700      224\n",
      "Rowling                  295        527      991\n",
      "               precision    recall  f1-score   support\n",
      "\n",
      "Chetan Bhagat       0.62      0.71      0.66      1691\n",
      "    Dan Brown       0.65      0.72      0.68      2370\n",
      "      Rowling       0.76      0.55      0.64      1813\n",
      "\n",
      "  avg / total       0.68      0.66      0.66      5874\n",
      "\n"
     ]
    }
   ],
   "source": [
    "test_pred(feat_with_tfidf_test,y_test,scaler_tfidf,clf_best_tfidf)"
   ]
  },
  {
   "cell_type": "code",
   "execution_count": 37,
   "metadata": {},
   "outputs": [
    {
     "name": "stdout",
     "output_type": "stream",
     "text": [
      "Predicted      Chetan Bhagat  Dan Brown  Rowling\n",
      "Actual                                          \n",
      "Chetan Bhagat           1198        371      122\n",
      "Dan Brown                453       1664      253\n",
      "Rowling                  304        489     1020\n",
      "               precision    recall  f1-score   support\n",
      "\n",
      "Chetan Bhagat       0.61      0.71      0.66      1691\n",
      "    Dan Brown       0.66      0.70      0.68      2370\n",
      "      Rowling       0.73      0.56      0.64      1813\n",
      "\n",
      "  avg / total       0.67      0.66      0.66      5874\n",
      "\n"
     ]
    }
   ],
   "source": [
    "test_pred(feat_with_w2v_test,y_test,scaler_w2v,clf_best_w2v)"
   ]
  },
  {
   "cell_type": "markdown",
   "metadata": {},
   "source": [
    "## Conclusion\n",
    "\n",
    "- content features and function word features are shown to be important in classification\n",
    "- Features in tfidf and bigrams can further modified to improve the classification\n",
    "- Over fitting can be avoided by early stopping / usign less number of trees\n",
    "- different combination of the features can be tried to improve test resutls \n",
    "- trigram features, topic  features probably can enhance the performace\n",
    "- Lemmetization  can also proably improve features\n",
    "\n"
   ]
  }
 ],
 "metadata": {
  "kernelspec": {
   "display_name": "author-att",
   "language": "python",
   "name": "author-att"
  },
  "language_info": {
   "codemirror_mode": {
    "name": "ipython",
    "version": 3
   },
   "file_extension": ".py",
   "mimetype": "text/x-python",
   "name": "python",
   "nbconvert_exporter": "python",
   "pygments_lexer": "ipython3",
   "version": "3.6.3"
  }
 },
 "nbformat": 4,
 "nbformat_minor": 2
}
