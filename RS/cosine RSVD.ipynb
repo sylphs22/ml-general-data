{
 "cells": [
  {
   "cell_type": "code",
   "execution_count": 1,
   "metadata": {
    "collapsed": true
   },
   "outputs": [],
   "source": [
    "def SGD(data):\n",
    "    '''Learn the vectors p_u and q_i with SGD.\n",
    "       data is a dataset containing all ratings + some useful info (e.g. number\n",
    "       of items/users).\n",
    "    '''\n",
    "\n",
    "    n_factors = 10  # number of factors\n",
    "    alpha = .01  # learning rate\n",
    "    n_epochs = 10  # number of iteration of the SGD procedure\n",
    "\n",
    "    # Randomly initialize the user and item factors.\n",
    "    p = np.random.normal(0, .1, (data.n_users, n_factors))\n",
    "    q = np.random.normal(0, .1, (data.n_items, n_factors))\n",
    "\n",
    "    # Optimization procedure\n",
    "    for _ in range(n_epochs):\n",
    "        for u, i, r_ui in data.all_ratings():\n",
    "            err = r_ui - np.dot(p[u], q[i])\n",
    "            # Update vectors p_u and q_i\n",
    "            p[u] += alpha * err * q[i]\n",
    "            q[i] += alpha * err * p[u]"
   ]
  },
  {
   "cell_type": "code",
   "execution_count": null,
   "metadata": {
    "collapsed": true
   },
   "outputs": [],
   "source": []
  }
 ],
 "metadata": {
  "kernelspec": {
   "display_name": "Python 3",
   "language": "python",
   "name": "python3"
  },
  "language_info": {
   "codemirror_mode": {
    "name": "ipython",
    "version": 3
   },
   "file_extension": ".py",
   "mimetype": "text/x-python",
   "name": "python",
   "nbconvert_exporter": "python",
   "pygments_lexer": "ipython3",
   "version": "3.6.3"
  }
 },
 "nbformat": 4,
 "nbformat_minor": 2
}
