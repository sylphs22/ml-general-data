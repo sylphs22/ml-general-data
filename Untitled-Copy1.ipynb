{
 "cells": [
  {
   "cell_type": "code",
   "execution_count": 1,
   "metadata": {
    "collapsed": false
   },
   "outputs": [],
   "source": [
    "from pyspark.ml.feature import HashingTF\n",
    "from pyspark.ml.feature import IDF\n",
    "from pyspark.sql.types import DoubleType\n"
   ]
  },
  {
   "cell_type": "code",
   "execution_count": 2,
   "metadata": {
    "collapsed": true
   },
   "outputs": [],
   "source": [
    "from pyspark.sql import SQLContext\n",
    "sqlContext = SQLContext(sc)"
   ]
  },
  {
   "cell_type": "code",
   "execution_count": 3,
   "metadata": {
    "collapsed": false
   },
   "outputs": [
    {
     "name": "stdout",
     "output_type": "stream",
     "text": [
      "root\n",
      " |-- doc_id: long (nullable = true)\n",
      " |-- doc_text: string (nullable = true)\n",
      "\n"
     ]
    }
   ],
   "source": [
    "documents = sqlContext.createDataFrame([\n",
    "    (0, \"The sky is blue\"),\n",
    "    (1, \"The sky is blue and beautiful\"),\n",
    "    (2, \"Look at the bright blue sky!,\"),\n",
    "   ], [\"doc_id\", \"doc_text\"])\n",
    "\n",
    "\n",
    "documents.printSchema()"
   ]
  },
  {
   "cell_type": "code",
   "execution_count": 25,
   "metadata": {
    "collapsed": true
   },
   "outputs": [],
   "source": [
    "from sklearn.feature_extraction.text import TfidfVectorizer\n",
    "from sklearn.feature_extraction.text import CountVectorizer\n",
    "from sklearn.metrics.pairwise import cosine_similarity"
   ]
  },
  {
   "cell_type": "code",
   "execution_count": null,
   "metadata": {
    "collapsed": true
   },
   "outputs": [],
   "source": [
    "vect = CountVectorizer(stop_words=\"english\")"
   ]
  },
  {
   "cell_type": "code",
   "execution_count": 4,
   "metadata": {
    "collapsed": false
   },
   "outputs": [],
   "source": [
    "import re\n",
    "#from stemming.porter2 import stem\n",
    "def clean_word(w):\n",
    "   # w=w.lower().strip()\n",
    "    w=re.sub('\\n',\"\",w)\n",
    "    return re.sub(\"[^a-z| |0-9]|,\\,|\\.|\\;|\\:|\\;|\\?|\\!|\\[|\\]|\\}|\\{(?i)\\b|[0-9]|((?:https?://|www\\d{0,3}))|[//]|[#]|[$]|\", \"\", (w.lower()))\n"
   ]
  },
  {
   "cell_type": "code",
   "execution_count": 10,
   "metadata": {
    "collapsed": true
   },
   "outputs": [],
   "source": [
    "toy=(documents.rdd.map(lambda x: (x.doc_id, clean_word (x.doc_text)))).toDF().withColumnRenamed(\"_1\",\"doc_id\").withColumnRenamed(\"_2\",\"doc_text\")"
   ]
  },
  {
   "cell_type": "code",
   "execution_count": null,
   "metadata": {
    "collapsed": false,
    "scrolled": true
   },
   "outputs": [],
   "source": [
    "toy.take(1)"
   ]
  },
  {
   "cell_type": "code",
   "execution_count": 11,
   "metadata": {
    "collapsed": false
   },
   "outputs": [],
   "source": [
    "df = (toy.rdd\n",
    "      .map(lambda x : (x[0],x[1].split(\" \")))\n",
    "     .toDF()\n",
    "  .withColumnRenamed(\"_1\",\"doc_id\")\n",
    "  .withColumnRenamed(\"_2\",\"features\"))"
   ]
  },
  {
   "cell_type": "code",
   "execution_count": 12,
   "metadata": {
    "collapsed": false
   },
   "outputs": [
    {
     "name": "stdout",
     "output_type": "stream",
     "text": [
      "root\n",
      " |-- doc_id: long (nullable = true)\n",
      " |-- features: array (nullable = true)\n",
      " |    |-- element: string (containsNull = true)\n",
      "\n"
     ]
    }
   ],
   "source": [
    "df.printSchema()"
   ]
  },
  {
   "cell_type": "code",
   "execution_count": null,
   "metadata": {
    "collapsed": true
   },
   "outputs": [],
   "source": [
    "import numpy as np"
   ]
  },
  {
   "cell_type": "code",
   "execution_count": null,
   "metadata": {
    "collapsed": false
   },
   "outputs": [],
   "source": [
    "df1=np.array(df.collect())"
   ]
  },
  {
   "cell_type": "code",
   "execution_count": null,
   "metadata": {
    "collapsed": false
   },
   "outputs": [],
   "source": [
    "df1"
   ]
  },
  {
   "cell_type": "code",
   "execution_count": null,
   "metadata": {
    "collapsed": false
   },
   "outputs": [],
   "source": [
    "df1[1]"
   ]
  },
  {
   "cell_type": "code",
   "execution_count": null,
   "metadata": {
    "collapsed": false
   },
   "outputs": [],
   "source": [
    "a=df1[0]"
   ]
  },
  {
   "cell_type": "code",
   "execution_count": null,
   "metadata": {
    "collapsed": false
   },
   "outputs": [],
   "source": [
    "type (a)"
   ]
  },
  {
   "cell_type": "code",
   "execution_count": null,
   "metadata": {
    "collapsed": false
   },
   "outputs": [],
   "source": [
    "c=df1[2]"
   ]
  },
  {
   "cell_type": "code",
   "execution_count": null,
   "metadata": {
    "collapsed": true
   },
   "outputs": [],
   "source": [
    "vocabulary =  vect.fit(df1).vocabulary_"
   ]
  },
  {
   "cell_type": "code",
   "execution_count": null,
   "metadata": {
    "collapsed": false
   },
   "outputs": [],
   "source": [
    "vocabulary"
   ]
  },
  {
   "cell_type": "code",
   "execution_count": null,
   "metadata": {
    "collapsed": true
   },
   "outputs": [],
   "source": [
    "tfidf_vect = TfidfVectorizer(stop_words='english',\n",
    "                             vocabulary=vocabulary)"
   ]
  },
  {
   "cell_type": "code",
   "execution_count": null,
   "metadata": {
    "collapsed": true
   },
   "outputs": [],
   "source": [
    "a_mat = tfidf_vect.fit_transform(a)"
   ]
  },
  {
   "cell_type": "code",
   "execution_count": null,
   "metadata": {
    "collapsed": false
   },
   "outputs": [],
   "source": [
    "print (a_mat)"
   ]
  },
  {
   "cell_type": "code",
   "execution_count": 19,
   "metadata": {
    "collapsed": true
   },
   "outputs": [],
   "source": [
    "def broadcast_matrix(mat):\n",
    "    bcast = sc.broadcast((mat.data, mat.indices, mat.indptr))\n",
    "    (data, indices, indptr) = bcast.value\n",
    "    bcast_mat = csr_matrix((data, indices, indptr), shape=mat.shape)\n",
    "    return bcast_mat\n",
    "\n",
    "def parallelize_matrix(scipy_mat, rows_per_chunk=100):\n",
    "    [rows, cols] = scipy_mat.shape\n",
    "    i = 0\n",
    "    submatrices = []\n",
    "    while i < rows:\n",
    "        current_chunk_size = min(rows_per_chunk, rows - i)\n",
    "        submat = scipy_mat[i:i + current_chunk_size]\n",
    "        submatrices.append((i, (submat.data, submat.indices, \n",
    "                                submat.indptr),\n",
    "                            (current_chunk_size, cols)))\n",
    "        i += current_chunk_size\n",
    "    return sc.parallelize(submatrices)"
   ]
  },
  {
   "cell_type": "code",
   "execution_count": 20,
   "metadata": {
    "collapsed": true
   },
   "outputs": [],
   "source": [
    "from scipy.sparse import csr_matrix"
   ]
  },
  {
   "cell_type": "code",
   "execution_count": 21,
   "metadata": {
    "collapsed": false
   },
   "outputs": [],
   "source": [
    "a_mat_para = parallelize_matrix(mat, rows_per_chunk=100)\n",
    "b_mat_dist = broadcast_matrix(mat)"
   ]
  },
  {
   "cell_type": "code",
   "execution_count": 104,
   "metadata": {
    "collapsed": false
   },
   "outputs": [],
   "source": [
    "def find_matches_in_submatrix(sources, targets, inputs_start_index,\n",
    "                              threshold=.1):\n",
    "    cosimilarities = cosine_similarity(sources, targets)\n",
    "    for i, cosimilarity in enumerate(cosimilarities):\n",
    "        #cosimilarity = cosimilarities.flatten()\n",
    "        target_index = np.argsort(-cosimilarity)\n",
    "        source_index = inputs_start_index + i\n",
    "        for j in range(2):##### change here\n",
    "            a=(target_index[j]).tolist()\n",
    "        #cosimilarity = cosimilarity.flatten()\n",
    "            similarity = cosimilarity[a]\n",
    "            return (source_index, a, similarity)"
   ]
  },
  {
   "cell_type": "code",
   "execution_count": null,
   "metadata": {
    "collapsed": true
   },
   "outputs": [],
   "source": [
    " for i, cosimilarity in enumerate(cosimilarities):\n",
    "        cosimilarity = cosimilarity.flatten()\n",
    "        index=np.argsort(-cosimilarities)\n",
    "        # Find the best match by using argsort()[-1]\n",
    "        target_index = cosimilarity.argsort()[-1]\n",
    "        source_index = inputs_start_index + i\n",
    "        similarity = cosimilarity[target_index]\n",
    "        if cosimilarity[target_index] >= threshold:\n",
    "            yield (source_index, target_index, similarity)"
   ]
  },
  {
   "cell_type": "code",
   "execution_count": 105,
   "metadata": {
    "collapsed": false
   },
   "outputs": [],
   "source": [
    "x= (a_mat_para.flatMap(\n",
    "        lambda submatrix:\n",
    "        find_matches_in_submatrix(csr_matrix(submatrix[1],\n",
    "                                             shape=submatrix[2]),\n",
    "                                   b_mat_dist,submatrix[0])))"
   ]
  },
  {
   "cell_type": "code",
   "execution_count": 106,
   "metadata": {
    "collapsed": false
   },
   "outputs": [
    {
     "data": {
      "text/plain": [
       "[0, 0, 1.0]"
      ]
     },
     "execution_count": 106,
     "metadata": {},
     "output_type": "execute_result"
    }
   ],
   "source": [
    "x.collect()"
   ]
  },
  {
   "cell_type": "code",
   "execution_count": 13,
   "metadata": {
    "collapsed": false
   },
   "outputs": [
    {
     "name": "stdout",
     "output_type": "stream",
     "text": [
      "+------+------------------------------------+--------------------------------------+\n",
      "|doc_id|features                            |tf                                    |\n",
      "+------+------------------------------------+--------------------------------------+\n",
      "|0     |[the, sky, is, blue]                |(10,[0,1,2,8],[1.0,1.0,1.0,1.0])      |\n",
      "|1     |[the, sky, is, blue, and, beautiful]|(10,[0,1,2,3,8],[1.0,1.0,1.0,1.0,2.0])|\n",
      "|2     |[look, at, the, bright, blue, sky]  |(10,[0,2,6,8,9],[1.0,1.0,2.0,1.0,1.0])|\n",
      "+------+------------------------------------+--------------------------------------+\n",
      "\n"
     ]
    }
   ],
   "source": [
    "htf = HashingTF(inputCol=\"features\", outputCol=\"tf\",numFeatures=10)\n",
    "tf = htf.transform(df)\n",
    "tf.show(truncate=False)"
   ]
  },
  {
   "cell_type": "code",
   "execution_count": 14,
   "metadata": {
    "collapsed": false
   },
   "outputs": [
    {
     "name": "stdout",
     "output_type": "stream",
     "text": [
      "+------+--------------------+--------------------+--------------------+\n",
      "|doc_id|            features|                  tf|               tfidf|\n",
      "+------+--------------------+--------------------+--------------------+\n",
      "|     0|[the, sky, is, blue]|(10,[0,1,2,8],[1....|(10,[0,1,2,8],[0....|\n",
      "|     1|[the, sky, is, bl...|(10,[0,1,2,3,8],[...|(10,[0,1,2,3,8],[...|\n",
      "|     2|[look, at, the, b...|(10,[0,2,6,8,9],[...|(10,[0,2,6,8,9],[...|\n",
      "+------+--------------------+--------------------+--------------------+\n",
      "\n"
     ]
    }
   ],
   "source": [
    "idf = IDF(inputCol=\"tf\", outputCol=\"tfidf\")\n",
    "tfidf = idf.fit(tf).transform(tf)\n",
    "tfidf.show(truncate=True)"
   ]
  },
  {
   "cell_type": "code",
   "execution_count": null,
   "metadata": {
    "collapsed": false
   },
   "outputs": [],
   "source": [
    "tfidf"
   ]
  },
  {
   "cell_type": "code",
   "execution_count": null,
   "metadata": {
    "collapsed": true
   },
   "outputs": [],
   "source": [
    "from sklearn.metrics.pairwise import cosine_similarity"
   ]
  },
  {
   "cell_type": "code",
   "execution_count": 15,
   "metadata": {
    "collapsed": false
   },
   "outputs": [],
   "source": [
    "mat1=tfidf.rdd.map(lambda x: (x.tfidf))"
   ]
  },
  {
   "cell_type": "code",
   "execution_count": null,
   "metadata": {
    "collapsed": false
   },
   "outputs": [],
   "source": [
    "mat1.take(1)"
   ]
  },
  {
   "cell_type": "code",
   "execution_count": null,
   "metadata": {
    "collapsed": false
   },
   "outputs": [],
   "source": [
    "mat1"
   ]
  },
  {
   "cell_type": "code",
   "execution_count": 16,
   "metadata": {
    "collapsed": false
   },
   "outputs": [],
   "source": [
    "import numpy as np\n",
    "from scipy.sparse import csr_matrix\n",
    "def as_matrix(vec):\n",
    "    data, indices = vec.values, vec.indices\n",
    "    shape = 1, vec.size\n",
    "    return csr_matrix((data, indices, np.array([0, vec.values.size])), shape)\n",
    "\n",
    "mats = mat1.map(as_matrix)"
   ]
  },
  {
   "cell_type": "code",
   "execution_count": null,
   "metadata": {
    "collapsed": false
   },
   "outputs": [],
   "source": [
    "mats"
   ]
  },
  {
   "cell_type": "code",
   "execution_count": 17,
   "metadata": {
    "collapsed": false
   },
   "outputs": [],
   "source": [
    "from scipy.sparse import vstack\n",
    "\n",
    "mat = mats.reduce(lambda x, y: vstack([x, y]))"
   ]
  },
  {
   "cell_type": "code",
   "execution_count": 18,
   "metadata": {
    "collapsed": false
   },
   "outputs": [
    {
     "data": {
      "text/plain": [
       "<3x10 sparse matrix of type '<class 'numpy.float64'>'\n",
       "\twith 14 stored elements in Compressed Sparse Row format>"
      ]
     },
     "execution_count": 18,
     "metadata": {},
     "output_type": "execute_result"
    }
   ],
   "source": [
    "mat"
   ]
  },
  {
   "cell_type": "code",
   "execution_count": null,
   "metadata": {
    "collapsed": true
   },
   "outputs": [],
   "source": [
    "cosimilarities = cosine_similarity(mat1, mat1)"
   ]
  },
  {
   "cell_type": "code",
   "execution_count": null,
   "metadata": {
    "collapsed": false
   },
   "outputs": [],
   "source": [
    "cosimilarities"
   ]
  },
  {
   "cell_type": "code",
   "execution_count": null,
   "metadata": {
    "collapsed": false
   },
   "outputs": [],
   "source": [
    "index=np.argsort(-cosimilarities)"
   ]
  },
  {
   "cell_type": "code",
   "execution_count": null,
   "metadata": {
    "collapsed": true
   },
   "outputs": [],
   "source": [
    "for i in range(3):##### change here\n",
    "    a=(index[i]).tolist()\n",
    "    df3=doc.filter(lambda x: x[0]==a[0]).map (lambda x: x[1])\n",
    "    print ('Document Similarity Analysis using Cosine Similarity\\n')\n",
    "    print ('='*60)\n",
    "    print (\"documents:\",i+1,\":\",df3.collect())\n",
    "   # print (df3.collect())    \n",
    "    for j in (range(len(a)-1)):\n",
    "        df2=doc.filter(lambda x: x[0]==a[j+1]).map (lambda x: x[1])        \n",
    "        print (\" similar documents\\n\",\"Top Doc:\", j+1,\":\\n\",df2.collect() )\n",
    "       # print (df2.collect())\n",
    "        print ('-'*40 )"
   ]
  },
  {
   "cell_type": "code",
   "execution_count": null,
   "metadata": {
    "collapsed": false
   },
   "outputs": [],
   "source": [
    "a=(index[i]).tolist()"
   ]
  },
  {
   "cell_type": "code",
   "execution_count": null,
   "metadata": {
    "collapsed": false
   },
   "outputs": [],
   "source": [
    "a"
   ]
  },
  {
   "cell_type": "code",
   "execution_count": null,
   "metadata": {
    "collapsed": false
   },
   "outputs": [],
   "source": [
    "df3=doc.filter(lambda x: x[0]==a[0]).map (lambda x: x[1])"
   ]
  },
  {
   "cell_type": "code",
   "execution_count": null,
   "metadata": {
    "collapsed": false
   },
   "outputs": [],
   "source": [
    "str (df3.collect())"
   ]
  },
  {
   "cell_type": "code",
   "execution_count": null,
   "metadata": {
    "collapsed": false
   },
   "outputs": [],
   "source": [
    "df1=documents[documents.doc_id.isin([2,1, 0])]"
   ]
  },
  {
   "cell_type": "code",
   "execution_count": null,
   "metadata": {
    "collapsed": false
   },
   "outputs": [],
   "source": [
    "df2.take(3)"
   ]
  },
  {
   "cell_type": "code",
   "execution_count": null,
   "metadata": {
    "collapsed": false
   },
   "outputs": [],
   "source": [
    "df1.take(3)"
   ]
  },
  {
   "cell_type": "code",
   "execution_count": null,
   "metadata": {
    "collapsed": false
   },
   "outputs": [],
   "source": [
    "df2=df1.select(\"doc_id\")"
   ]
  },
  {
   "cell_type": "code",
   "execution_count": null,
   "metadata": {
    "collapsed": false
   },
   "outputs": [],
   "source": [
    "mat1=df1.rdd.map(lambda x: (x[1]))"
   ]
  },
  {
   "cell_type": "code",
   "execution_count": null,
   "metadata": {
    "collapsed": false
   },
   "outputs": [],
   "source": [
    "header = mat1.take(1)[0]\n",
    "rows = mat1.filter(lambda line: line != header)"
   ]
  },
  {
   "cell_type": "code",
   "execution_count": null,
   "metadata": {
    "collapsed": false
   },
   "outputs": [],
   "source": [
    "mat1str=[(rows.collect())]"
   ]
  },
  {
   "cell_type": "code",
   "execution_count": null,
   "metadata": {
    "collapsed": false
   },
   "outputs": [],
   "source": [
    "df3.take(1)"
   ]
  },
  {
   "cell_type": "code",
   "execution_count": null,
   "metadata": {
    "collapsed": true
   },
   "outputs": [],
   "source": [
    "df3str=str (df3.collect())"
   ]
  },
  {
   "cell_type": "code",
   "execution_count": null,
   "metadata": {
    "collapsed": false
   },
   "outputs": [],
   "source": [
    "df3str"
   ]
  },
  {
   "cell_type": "code",
   "execution_count": null,
   "metadata": {
    "collapsed": false
   },
   "outputs": [],
   "source": [
    "file = open(\"dump.txt\", \"w\")\n",
    "file.write ('\\nDocument Similarity Analysis using Cosine Similarity\\n')\n",
    "for i in range(3):##### change here\n",
    "    a=(index[i]).tolist()\n",
    "    df3=doc.filter(lambda x: x[0]==a[0]).map (lambda x: str (x[1]))\n",
    "    df3str=str (df3.collect()) \n",
    "    file.write (\"\\n\")\n",
    "    file.write ('='*60)\n",
    "    file.write (\"\\ndocuments:\")\n",
    "    c=str(i+1)\n",
    "    file.write (c)\n",
    "    file.write (\":\\n\")   \n",
    "    file.write (df3str)\n",
    "    file.write (\" \\nsimilar documents\\n\")\n",
    "    for j in range(2):\n",
    "        df2=doc.filter(lambda x: x[0]== a[j+1]).map (lambda x: str (x[1]))\n",
    "        df2str=str (df2.collect())        \n",
    "        file.write (\"\\nTop Doc:\")\n",
    "        b= str (j+1)\n",
    "        file.write (b)\n",
    "        file.write (\":\\n\")        \n",
    "        file.write (df2str)\n",
    "        file.write (\"\\n\")\n",
    "        file.write ('-'*40 )\n",
    "        file.write (\"\\n\")\n",
    "        #file.close()\n",
    "file.close ()"
   ]
  },
  {
   "cell_type": "code",
   "execution_count": null,
   "metadata": {
    "collapsed": false
   },
   "outputs": [],
   "source": [
    "a"
   ]
  },
  {
   "cell_type": "code",
   "execution_count": null,
   "metadata": {
    "collapsed": true
   },
   "outputs": [],
   "source": []
  }
 ],
 "metadata": {
  "anaconda-cloud": {},
  "kernelspec": {
   "display_name": "Python [conda root]",
   "language": "python",
   "name": "conda-root-py"
  },
  "language_info": {
   "codemirror_mode": {
    "name": "ipython",
    "version": 3
   },
   "file_extension": ".py",
   "mimetype": "text/x-python",
   "name": "python",
   "nbconvert_exporter": "python",
   "pygments_lexer": "ipython3",
   "version": "3.5.2"
  }
 },
 "nbformat": 4,
 "nbformat_minor": 1
}
